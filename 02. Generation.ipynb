{
 "cells": [
  {
   "cell_type": "markdown",
   "metadata": {},
   "source": [
    "<a href=\"https://colab.research.google.com/github/wandb/edu/blob/main/llm-apps-course/notebooks/02.%20Generation.ipynb\" target=\"_parent\"><img src=\"https://colab.research.google.com/assets/colab-badge.svg\" alt=\"Open In Colab\"/></a>\n",
    "<!--- @wandbcode{llmapps-generation} -->"
   ]
  },
  {
   "cell_type": "markdown",
   "metadata": {},
   "source": [
    "# Generation\n",
    "<!--- @wandbcode{llmapps-generation} -->\n",
    "\n",
    "In this notebook we will dive deeper on prompting the model by passing a better context by using available data from users questions and using the documentation files to generate better answers.\n"
   ]
  },
  {
   "cell_type": "markdown",
   "metadata": {},
   "source": [
    "### Setup"
   ]
  },
  {
   "cell_type": "code",
   "execution_count": null,
   "metadata": {},
   "outputs": [],
   "source": [
    "# %pip install -Uqqq rich openai==0.27.2 tiktoken wandb tenacity\n",
    "# %pip install weave"
   ]
  },
  {
   "cell_type": "code",
   "execution_count": 3,
   "metadata": {},
   "outputs": [],
   "source": [
    "import os\n",
    "import random\n",
    "\n",
    "import openai\n",
    "import tiktoken\n",
    "\n",
    "from pathlib import Path\n",
    "from pprint import pprint\n",
    "from getpass import getpass\n",
    "\n",
    "from rich.markdown import Markdown\n",
    "import pandas as pd\n",
    "from tenacity import (\n",
    "    retry,\n",
    "    stop_after_attempt,\n",
    "    wait_random_exponential, # for exponential backoff\n",
    ")  \n",
    "import wandb\n",
    "from wandb.integration.openai import autolog\n",
    "import weave"
   ]
  },
  {
   "cell_type": "code",
   "execution_count": 4,
   "metadata": {},
   "outputs": [],
   "source": [
    "# Download files on colab\n",
    "if not Path(\"examples.txt\").exists():\n",
    "    !wget https://raw.githubusercontent.com/wandb/edu/main/llm-apps-course/notebooks/{examples,prompt_template,system_template}.txt"
   ]
  },
  {
   "cell_type": "markdown",
   "metadata": {},
   "source": [
    "You will need an OpenAI API key to run this notebook. You can get one [here](https://platform.openai.com/account/api-keys)."
   ]
  },
  {
   "cell_type": "code",
   "execution_count": 5,
   "metadata": {},
   "outputs": [
    {
     "name": "stdout",
     "output_type": "stream",
     "text": [
      "OpenAI API key configured\n"
     ]
    }
   ],
   "source": [
    "if os.getenv(\"OPENAI_API_KEY\") is None:\n",
    "  if any(['VSCODE' in x for x in os.environ.keys()]):\n",
    "    print('Please enter password in the VS Code prompt at the top of your VS Code window!')\n",
    "  os.environ[\"OPENAI_API_KEY\"] = getpass(\"Paste your OpenAI key from: https://platform.openai.com/account/api-keys\\n\")\n",
    "  openai.api_key = os.getenv(\"OPENAI_API_KEY\", \"\")\n",
    "\n",
    "assert os.getenv(\"OPENAI_API_KEY\", \"\").startswith(\"sk-\"), \"This doesn't look like a valid OpenAI API key\"\n",
    "print(\"OpenAI API key configured\")"
   ]
  },
  {
   "cell_type": "markdown",
   "metadata": {},
   "source": [
    "Let's enable W&B autologging to track our experiments."
   ]
  },
  {
   "cell_type": "code",
   "execution_count": 7,
   "metadata": {},
   "outputs": [
    {
     "name": "stderr",
     "output_type": "stream",
     "text": [
      "/home/codespace/.local/lib/python3.12/site-packages/tqdm/auto.py:21: TqdmWarning: IProgress not found. Please update jupyter and ipywidgets. See https://ipywidgets.readthedocs.io/en/stable/user_install.html\n",
      "  from .autonotebook import tqdm as notebook_tqdm\n",
      "\u001b[36m\u001b[1mweave\u001b[0m: Logged in as Weights & Biases user: nazalint.\n",
      "\u001b[36m\u001b[1mweave\u001b[0m: View Weave data at https://wandb.ai/My1Team/llmapps/weave\n"
     ]
    },
    {
     "data": {
      "text/plain": [
       "<weave.trace.weave_client.WeaveClient at 0x7ea53574ee10>"
      ]
     },
     "execution_count": 7,
     "metadata": {},
     "output_type": "execute_result"
    },
    {
     "name": "stderr",
     "output_type": "stream",
     "text": [
      "\u001b[36m\u001b[1mweave\u001b[0m: retry_attempt\n"
     ]
    }
   ],
   "source": [
    "# start logging to W&B\n",
    "# autolog({\"project\":\"llmapps\", \"job_type\": \"generation\"})\n",
    "weave.init(project_name=\"llmapps\", settings=\"Generation\")"
   ]
  },
  {
   "cell_type": "markdown",
   "metadata": {},
   "source": [
    "# Generating synthetic support questions"
   ]
  },
  {
   "cell_type": "markdown",
   "metadata": {},
   "source": [
    "We will add a retry behavior in case we hit the API rate limit"
   ]
  },
  {
   "cell_type": "code",
   "execution_count": 12,
   "metadata": {},
   "outputs": [],
   "source": [
    "client = openai.OpenAI()\n",
    "@retry(wait=wait_random_exponential(min=1, max=60), stop=stop_after_attempt(6))\n",
    "def completion_with_backoff(**kwargs):\n",
    "    return client.chat.completions.create(**kwargs)"
   ]
  },
  {
   "cell_type": "code",
   "execution_count": 13,
   "metadata": {},
   "outputs": [],
   "source": [
    "MODEL_NAME = \"gpt-3.5-turbo\"\n",
    "# MODEL_NAME = \"gpt-4\""
   ]
  },
  {
   "cell_type": "code",
   "execution_count": null,
   "metadata": {},
   "outputs": [
    {
     "data": {
      "text/html": [
       "<pre style=\"white-space:pre;overflow-x:auto;line-height:normal;font-family:Menlo,'DejaVu Sans Mono',consolas,'Courier New',monospace\">Sure, here is a sample support question from a user regarding weight and balance calculations: \"I'm having trouble \n",
       "entering the correct fuel weight in the W&amp;B tool. Can you provide guidance on how to accurately input the fuel     \n",
       "weight for my aircraft?\"                                                                                           \n",
       "</pre>\n"
      ],
      "text/plain": [
       "Sure, here is a sample support question from a user regarding weight and balance calculations: \"I'm having trouble \n",
       "entering the correct fuel weight in the W&B tool. Can you provide guidance on how to accurately input the fuel     \n",
       "weight for my aircraft?\"                                                                                           \n"
      ]
     },
     "metadata": {},
     "output_type": "display_data"
    },
    {
     "data": {
      "text/html": [
       "<pre style=\"white-space:pre;overflow-x:auto;line-height:normal;font-family:Menlo,'DejaVu Sans Mono',consolas,'Courier New',monospace\">Sure, here is an example of a support question that a user might have about Weights &amp; Biases:                      \n",
       "\n",
       "\"How can I compare the performances of different models using Weights &amp; Biases?\"                                   \n",
       "</pre>\n"
      ],
      "text/plain": [
       "Sure, here is an example of a support question that a user might have about Weights & Biases:                      \n",
       "\n",
       "\"How can I compare the performances of different models using Weights & Biases?\"                                   \n"
      ]
     },
     "metadata": {},
     "output_type": "display_data"
    },
    {
     "data": {
      "text/html": [
       "<pre style=\"white-space:pre;overflow-x:auto;line-height:normal;font-family:Menlo,'DejaVu Sans Mono',consolas,'Courier New',monospace\">Sure, here is a support question that a user may have regarding weights and biases:                                \n",
       "\n",
       "\"How can I visualize multiple runs in a single graph using W&amp;B, to compare different training settings of my       \n",
       "machine learning model?\"                                                                                           \n",
       "</pre>\n"
      ],
      "text/plain": [
       "Sure, here is a support question that a user may have regarding weights and biases:                                \n",
       "\n",
       "\"How can I visualize multiple runs in a single graph using W&B, to compare different training settings of my       \n",
       "machine learning model?\"                                                                                           \n"
      ]
     },
     "metadata": {},
     "output_type": "display_data"
    },
    {
     "data": {
      "text/html": [
       "<pre style=\"white-space:pre;overflow-x:auto;line-height:normal;font-family:Menlo,'DejaVu Sans Mono',consolas,'Courier New',monospace\">Sure! Here's a support question that a W&amp;B user might ask:                                                         \n",
       "\n",
       "\"I'm having trouble understanding how to interpret the graphs and visualizations in my W&amp;B project. Can you provide\n",
       "some guidance on how to analyze and derive insights from these visualizations effectively?\"                        \n",
       "</pre>\n"
      ],
      "text/plain": [
       "Sure! Here's a support question that a W&B user might ask:                                                         \n",
       "\n",
       "\"I'm having trouble understanding how to interpret the graphs and visualizations in my W&B project. Can you provide\n",
       "some guidance on how to analyze and derive insights from these visualizations effectively?\"                        \n"
      ]
     },
     "metadata": {},
     "output_type": "display_data"
    },
    {
     "data": {
      "text/html": [
       "<pre style=\"white-space:pre;overflow-x:auto;line-height:normal;font-family:Menlo,'DejaVu Sans Mono',consolas,'Courier New',monospace\">\"Is there a way to adjust the date range for the insights generated in the Workbench dashboard?\"                   \n",
       "</pre>\n"
      ],
      "text/plain": [
       "\"Is there a way to adjust the date range for the insights generated in the Workbench dashboard?\"                   \n"
      ]
     },
     "metadata": {},
     "output_type": "display_data"
    },
    {
     "name": "stderr",
     "output_type": "stream",
     "text": [
      "\u001b[36m\u001b[1mweave\u001b[0m: retry_attempt\n",
      "\u001b[36m\u001b[1mweave\u001b[0m: retry_attempt\n"
     ]
    }
   ],
   "source": [
    "system_prompt = \"You are a helpful assistant.\"\n",
    "user_prompt = \"Generate a support question from a W&B user\"\n",
    "\n",
    "@weave.op()\n",
    "def generate_and_print(system_prompt, user_prompt, n=5):\n",
    "    messages=[\n",
    "            {\"role\": \"system\", \"content\": system_prompt},\n",
    "            {\"role\": \"user\", \"content\": user_prompt},\n",
    "        ]\n",
    "    responses = completion_with_backoff(\n",
    "        model=MODEL_NAME,\n",
    "        messages=messages,\n",
    "        n = n,\n",
    "        )\n",
    "    for response in responses.choices:\n",
    "        generation = response.message.content\n",
    "        display(Markdown(generation))\n",
    "    \n",
    "generate_and_print(system_prompt, user_prompt)"
   ]
  },
  {
   "cell_type": "markdown",
   "metadata": {},
   "source": [
    "# Few Shot "
   ]
  },
  {
   "cell_type": "markdown",
   "metadata": {},
   "source": [
    "Let's read some user submitted queries from the file `examples.txt`. This file contains multiline questions separated by tabs (`\\t`)."
   ]
  },
  {
   "cell_type": "code",
   "execution_count": 15,
   "metadata": {},
   "outputs": [],
   "source": [
    "# Test if examples.txt is present, download if not\n",
    "if not Path(\"examples.txt\").exists():\n",
    "    !wget https://raw.githubusercontent.com/wandb/edu/main/llm-apps-course/notebooks/examples.txt"
   ]
  },
  {
   "cell_type": "code",
   "execution_count": 16,
   "metadata": {},
   "outputs": [
    {
     "name": "stdout",
     "output_type": "stream",
     "text": [
      "'We have 228 real queries:'\n"
     ]
    },
    {
     "data": {
      "text/html": [
       "<pre style=\"white-space:pre;overflow-x:auto;line-height:normal;font-family:Menlo,'DejaVu Sans Mono',consolas,'Courier New',monospace\">Sample one: \"can we edit table after run?\"                                                                         \n",
       "</pre>\n"
      ],
      "text/plain": [
       "Sample one: \"can we edit table after run?\"                                                                         \n"
      ]
     },
     "execution_count": 16,
     "metadata": {},
     "output_type": "execute_result"
    }
   ],
   "source": [
    "delimiter = \"\\t\" # tab separated queries\n",
    "with open(\"examples.txt\", \"r\") as file:\n",
    "    data = file.read()\n",
    "    real_queries = data.split(delimiter)\n",
    "\n",
    "pprint(f\"We have {len(real_queries)} real queries:\")  \n",
    "Markdown(f\"Sample one: \\n\\\"{random.choice(real_queries)}\\\"\")"
   ]
  },
  {
   "cell_type": "markdown",
   "metadata": {},
   "source": [
    "We can now use those real user questions to guide our model to produce synthetic questions like those."
   ]
  },
  {
   "cell_type": "code",
   "execution_count": 17,
   "metadata": {},
   "outputs": [
    {
     "data": {
      "text/html": [
       "<pre style=\"white-space:pre;overflow-x:auto;line-height:normal;font-family:Menlo,'DejaVu Sans Mono',consolas,'Courier New',monospace\">Generate a support question from a W&amp;B user Below you will find a few examples of real user queries: After my model\n",
       "finished training, wandb stayed at this point for up to 20 minutes {wandb: / 0.063 MB of 0.063 MB uploaded (0.000  \n",
       "MB deduped)}. Does anyone know how to solve this? I wrote four pieces of code for training at the same time, and   \n",
       "they used the same wandb.init method. Is it affected by this? Because when I tested the code before, there was no  \n",
       "situation where it stayed for 20 minutes. This is my init code:                                                    \n",
       "<span style=\"color: #008080; text-decoration-color: #008080; background-color: #000000; font-weight: bold\">wandb.init(project=\"BioRED_cu05_1\",name=args.wandbName)</span> s there a good way to use sweeps and launch? Is there a way\n",
       "to download a public W&amp;B artifact without the requirement of W&amp;B API key ? Let's start!                            \n",
       "</pre>\n"
      ],
      "text/plain": [
       "Generate a support question from a W&B user Below you will find a few examples of real user queries: After my model\n",
       "finished training, wandb stayed at this point for up to 20 minutes {wandb: / 0.063 MB of 0.063 MB uploaded (0.000  \n",
       "MB deduped)}. Does anyone know how to solve this? I wrote four pieces of code for training at the same time, and   \n",
       "they used the same wandb.init method. Is it affected by this? Because when I tested the code before, there was no  \n",
       "situation where it stayed for 20 minutes. This is my init code:                                                    \n",
       "\u001b[1;36;40mwandb.init(project=\"BioRED_cu05_1\",name=args.wandbName)\u001b[0m s there a good way to use sweeps and launch? Is there a way\n",
       "to download a public W&B artifact without the requirement of W&B API key ? Let's start!                            \n"
      ]
     },
     "execution_count": 17,
     "metadata": {},
     "output_type": "execute_result"
    }
   ],
   "source": [
    "def generate_few_shot_prompt(queries, n=3):\n",
    "    prompt = \"Generate a support question from a W&B user\\n\" +\\\n",
    "        \"Below you will find a few examples of real user queries:\\n\"\n",
    "    for _ in range(n):\n",
    "        prompt += random.choice(queries) + \"\\n\"\n",
    "    prompt += \"Let's start!\"\n",
    "    return prompt\n",
    "\n",
    "generation_prompt = generate_few_shot_prompt(real_queries)\n",
    "Markdown(generation_prompt)\n"
   ]
  },
  {
   "cell_type": "markdown",
   "metadata": {},
   "source": [
    "OpenAI `Chat` models are really good at following instructions with a few examples. Let's see how it does here. This is going to use some context from the prompt."
   ]
  },
  {
   "cell_type": "code",
   "execution_count": 18,
   "metadata": {},
   "outputs": [
    {
     "data": {
      "text/html": [
       "<pre style=\"white-space:pre;overflow-x:auto;line-height:normal;font-family:Menlo,'DejaVu Sans Mono',consolas,'Courier New',monospace\">How can I analyze the results from multiple runs in a sweep to compare the performance of different configurations \n",
       "effectively?                                                                                                       \n",
       "</pre>\n"
      ],
      "text/plain": [
       "How can I analyze the results from multiple runs in a sweep to compare the performance of different configurations \n",
       "effectively?                                                                                                       \n"
      ]
     },
     "metadata": {},
     "output_type": "display_data"
    },
    {
     "data": {
      "text/html": [
       "<pre style=\"white-space:pre;overflow-x:auto;line-height:normal;font-family:Menlo,'DejaVu Sans Mono',consolas,'Courier New',monospace\">\"What could be causing my W&amp;B to stay at the upload point for up to 20 minutes after model training completes? I   \n",
       "have multiple pieces of code running training simultaneously using the same <span style=\"color: #008080; text-decoration-color: #008080; background-color: #000000; font-weight: bold\">wandb.init</span> method. Could this be a     \n",
       "factor? Here is my init code: <span style=\"color: #008080; text-decoration-color: #008080; background-color: #000000; font-weight: bold\">wandb.init(project=\"BioRED_cu05_1\", name=args.wandbName)</span>.\"                           \n",
       "</pre>\n"
      ],
      "text/plain": [
       "\"What could be causing my W&B to stay at the upload point for up to 20 minutes after model training completes? I   \n",
       "have multiple pieces of code running training simultaneously using the same \u001b[1;36;40mwandb.init\u001b[0m method. Could this be a     \n",
       "factor? Here is my init code: \u001b[1;36;40mwandb.init(project=\"BioRED_cu05_1\", name=args.wandbName)\u001b[0m.\"                           \n"
      ]
     },
     "metadata": {},
     "output_type": "display_data"
    },
    {
     "data": {
      "text/html": [
       "<pre style=\"white-space:pre;overflow-x:auto;line-height:normal;font-family:Menlo,'DejaVu Sans Mono',consolas,'Courier New',monospace\">\"Why is my W&amp;B dashboard showing that my model has been training for a long time after it has finished training    \n",
       "successfully? I used the same <span style=\"color: #008080; text-decoration-color: #008080; background-color: #000000; font-weight: bold\">wandb.init()</span> method for different pieces of training code simultaneously. Could this \n",
       "be causing the delay? Here is my init code: <span style=\"color: #008080; text-decoration-color: #008080; background-color: #000000; font-weight: bold\">wandb.init(project=\"BioRED_cu05_1\", name=args.wandbName)</span>.\"             \n",
       "</pre>\n"
      ],
      "text/plain": [
       "\"Why is my W&B dashboard showing that my model has been training for a long time after it has finished training    \n",
       "successfully? I used the same \u001b[1;36;40mwandb.init()\u001b[0m method for different pieces of training code simultaneously. Could this \n",
       "be causing the delay? Here is my init code: \u001b[1;36;40mwandb.init(project=\"BioRED_cu05_1\", name=args.wandbName)\u001b[0m.\"             \n"
      ]
     },
     "metadata": {},
     "output_type": "display_data"
    },
    {
     "data": {
      "text/html": [
       "<pre style=\"white-space:pre;overflow-x:auto;line-height:normal;font-family:Menlo,'DejaVu Sans Mono',consolas,'Courier New',monospace\">How can I resolve the issue of my model training finishing but WandB being stuck at a particular point for up to 20\n",
       "minutes? My code includes multiple training processes using the same <span style=\"color: #008080; text-decoration-color: #008080; background-color: #000000; font-weight: bold\">wandb.init</span> method, so could this be impacting \n",
       "the duration of data upload to WandB?                                                                              \n",
       "</pre>\n"
      ],
      "text/plain": [
       "How can I resolve the issue of my model training finishing but WandB being stuck at a particular point for up to 20\n",
       "minutes? My code includes multiple training processes using the same \u001b[1;36;40mwandb.init\u001b[0m method, so could this be impacting \n",
       "the duration of data upload to WandB?                                                                              \n"
      ]
     },
     "metadata": {},
     "output_type": "display_data"
    },
    {
     "data": {
      "text/html": [
       "<pre style=\"white-space:pre;overflow-x:auto;line-height:normal;font-family:Menlo,'DejaVu Sans Mono',consolas,'Courier New',monospace\">How can I troubleshoot and resolve the issue of wandb staying at a certain point for up to 20 minutes after my     \n",
       "model finishes training?                                                                                           \n",
       "</pre>\n"
      ],
      "text/plain": [
       "How can I troubleshoot and resolve the issue of wandb staying at a certain point for up to 20 minutes after my     \n",
       "model finishes training?                                                                                           \n"
      ]
     },
     "metadata": {},
     "output_type": "display_data"
    }
   ],
   "source": [
    "generate_and_print(system_prompt, user_prompt=generation_prompt)"
   ]
  },
  {
   "cell_type": "markdown",
   "metadata": {},
   "source": [
    "# Add Context & Response"
   ]
  },
  {
   "cell_type": "markdown",
   "metadata": {},
   "source": [
    "Let's create a function to find all the markdown files in a directory and return it's content and path"
   ]
  },
  {
   "cell_type": "code",
   "execution_count": 20,
   "metadata": {},
   "outputs": [],
   "source": [
    "# check if directory exists, if not, create it and download the files, e.g if running in colab\n",
    "if not os.path.exists(\"../docs_sample/\"):\n",
    "  !git clone https://github.com/wandb/edu.git\n",
    "  !cp -r edu/llm-apps-course/docs_sample ../"
   ]
  },
  {
   "cell_type": "code",
   "execution_count": 21,
   "metadata": {},
   "outputs": [
    {
     "data": {
      "text/plain": [
       "11"
      ]
     },
     "execution_count": 21,
     "metadata": {},
     "output_type": "execute_result"
    }
   ],
   "source": [
    "def find_md_files(directory):\n",
    "    \"Find all markdown files in a directory and return their content and path\"\n",
    "    md_files = []\n",
    "    for file in Path(directory).rglob(\"*.md\"):\n",
    "        with open(file, 'r', encoding='utf-8') as md_file:\n",
    "            content = md_file.read()\n",
    "        md_files.append((file.relative_to(directory), content))\n",
    "    return md_files\n",
    "\n",
    "documents = find_md_files('../docs_sample/')\n",
    "len(documents)"
   ]
  },
  {
   "cell_type": "markdown",
   "metadata": {},
   "source": [
    "Let's check if the documents are not too long for our context window. We need to compute the number of tokens in each document."
   ]
  },
  {
   "cell_type": "code",
   "execution_count": 22,
   "metadata": {},
   "outputs": [
    {
     "name": "stdout",
     "output_type": "stream",
     "text": [
      "[537, 2529, 4179, 803, 2596, 1206, 1644, 956, 2093, 2940, 365]\n"
     ]
    }
   ],
   "source": [
    "tokenizer = tiktoken.encoding_for_model(MODEL_NAME)\n",
    "tokens_per_document = [len(tokenizer.encode(document)) for _, document in documents]\n",
    "pprint(tokens_per_document)"
   ]
  },
  {
   "cell_type": "markdown",
   "metadata": {},
   "source": [
    "Some of them are too long - instead of using entire documents, we'll extract a random chunk from them"
   ]
  },
  {
   "cell_type": "code",
   "execution_count": 23,
   "metadata": {},
   "outputs": [],
   "source": [
    "# extract a random chunk from a document\n",
    "def extract_random_chunk(document, max_tokens=512):\n",
    "    tokens = tokenizer.encode(document)\n",
    "    if len(tokens) <= max_tokens:\n",
    "        return document\n",
    "    start = random.randint(0, len(tokens) - max_tokens)\n",
    "    end = start + max_tokens\n",
    "    return tokenizer.decode(tokens[start:end])"
   ]
  },
  {
   "cell_type": "markdown",
   "metadata": {},
   "source": [
    "Now, we will use that extracted chunk to create a question that can be answered by the document. This way we can generate questions that our current documentation is capable of answering."
   ]
  },
  {
   "cell_type": "code",
   "execution_count": 24,
   "metadata": {},
   "outputs": [],
   "source": [
    "def generate_context_prompt(chunk):\n",
    "    prompt = \"Generate a support question from a W&B user\\n\" +\\\n",
    "        \"The question should be answerable by provided fragment of W&B documentation.\\n\" +\\\n",
    "        \"Below you will find a fragment of W&B documentation:\\n\" +\\\n",
    "        chunk + \"\\n\" +\\\n",
    "        \"Let's start!\"\n",
    "    return prompt\n",
    "\n",
    "chunk = extract_random_chunk(documents[0][1])\n",
    "generation_prompt = generate_context_prompt(chunk)"
   ]
  },
  {
   "cell_type": "code",
   "execution_count": 25,
   "metadata": {},
   "outputs": [
    {
     "data": {
      "text/html": [
       "<pre style=\"white-space:pre;overflow-x:auto;line-height:normal;font-family:Menlo,'DejaVu Sans Mono',consolas,'Courier New',monospace\">\n",
       "     <span style=\"font-weight: bold; text-decoration: underline\">Generate a support question from a W&amp;B user The question should be answerable by provided fragment of W&amp;B</span>     \n",
       "   <span style=\"font-weight: bold; text-decoration: underline\">documentation. Below you will find a fragment of W&amp;B documentation: W&amp;B Tables with this 5 minute Quickstart.</span>   \n",
       "\n",
       "┏━━━━━━━━━━━━━━━━━━━━━━━━━━━━━━━━━━━━━━━━━━━━━━━━━━━━━━━━━━━━━━━━━━━━━━━━━━━━━━━━━━━━━━━━━━━━━━━━━━━━━━━━━━━━━━━━━┓\n",
       "┃                                                <span style=\"font-weight: bold\">Tables Quickstart</span>                                                ┃\n",
       "┗━━━━━━━━━━━━━━━━━━━━━━━━━━━━━━━━━━━━━━━━━━━━━━━━━━━━━━━━━━━━━━━━━━━━━━━━━━━━━━━━━━━━━━━━━━━━━━━━━━━━━━━━━━━━━━━━━┛\n",
       "\n",
       "The following Quickstart demonstrates how to log data tables, visualize data, and query data.                      \n",
       "\n",
       "🌆 <a href=\"http://wandb.me/tables-quickstart\" target=\"_blank\"><span style=\"color: #000080; text-decoration-color: #000080; text-decoration: underline\">Open In Colab</span></a> Select the button below to try a PyTorch Quickstart example project on MNIST data.                                 \n",
       "\n",
       "\n",
       "                                                  <span style=\"font-weight: bold; text-decoration: underline\">1. Log a table</span>                                                   \n",
       "\n",
       "Follow the procedure outlined below to log a Table with W&amp;B:                                                       \n",
       "\n",
       "<span style=\"color: #808000; text-decoration-color: #808000; font-weight: bold\"> 1 </span>Initialize a W&amp;B Run with <a href=\"../../ref/python/init.md\" target=\"_blank\"><span style=\"color: #008080; text-decoration-color: #008080; background-color: #000000; font-weight: bold; text-decoration: underline\">wandb.init()</span></a>.                                                                         \n",
       "<span style=\"color: #808000; text-decoration-color: #808000; font-weight: bold\"> 2 </span>Create a <a href=\"../../ref/python/data-types/table.md\" target=\"_blank\"><span style=\"color: #008080; text-decoration-color: #008080; background-color: #000000; font-weight: bold; text-decoration: underline\">wandb.Table()</span></a> object instance. Pass the name of the columns in your table along with the data for the  \n",
       "<span style=\"color: #808000; text-decoration-color: #808000; font-weight: bold\">   </span><span style=\"color: #008080; text-decoration-color: #008080; background-color: #000000; font-weight: bold\">columns</span> and <span style=\"color: #008080; text-decoration-color: #008080; background-color: #000000; font-weight: bold\">data</span> parameters, respectively.                                                                      \n",
       "<span style=\"color: #808000; text-decoration-color: #808000; font-weight: bold\"> 3 </span>Log the table with <a href=\"../../ref/python/log.md\" target=\"_blank\"><span style=\"color: #008080; text-decoration-color: #008080; background-color: #000000; font-weight: bold; text-decoration: underline\">run.log()</span></a> as a key-value pair. Provide a name for your table for the key, and pass the object\n",
       "<span style=\"color: #808000; text-decoration-color: #808000; font-weight: bold\">   </span>instance of <span style=\"color: #008080; text-decoration-color: #008080; background-color: #000000; font-weight: bold\">wandb.Table</span> as the value.                                                                           \n",
       "\n",
       "<span style=\"background-color: #272822\">                                                                                                                   \n",
       " </span><span style=\"color: #f8f8f2; text-decoration-color: #f8f8f2; background-color: #272822\">run </span><span style=\"color: #ff4689; text-decoration-color: #ff4689; background-color: #272822\">=</span><span style=\"color: #f8f8f2; text-decoration-color: #f8f8f2; background-color: #272822\"> wandb</span><span style=\"color: #ff4689; text-decoration-color: #ff4689; background-color: #272822\">.</span><span style=\"color: #f8f8f2; text-decoration-color: #f8f8f2; background-color: #272822\">init(project</span><span style=\"color: #ff4689; text-decoration-color: #ff4689; background-color: #272822\">=</span><span style=\"color: #e6db74; text-decoration-color: #e6db74; background-color: #272822\">\"table-test\"</span><span style=\"color: #f8f8f2; text-decoration-color: #f8f8f2; background-color: #272822\">)</span><span style=\"background-color: #272822\">                                                                            </span>\n",
       "<span style=\"background-color: #272822\"> </span><span style=\"color: #f8f8f2; text-decoration-color: #f8f8f2; background-color: #272822\">my_table </span><span style=\"color: #ff4689; text-decoration-color: #ff4689; background-color: #272822\">=</span><span style=\"color: #f8f8f2; text-decoration-color: #f8f8f2; background-color: #272822\"> wandb</span><span style=\"color: #ff4689; text-decoration-color: #ff4689; background-color: #272822\">.</span><span style=\"color: #f8f8f2; text-decoration-color: #f8f8f2; background-color: #272822\">Table(columns</span><span style=\"color: #ff4689; text-decoration-color: #ff4689; background-color: #272822\">=</span><span style=\"color: #f8f8f2; text-decoration-color: #f8f8f2; background-color: #272822\">[</span><span style=\"color: #e6db74; text-decoration-color: #e6db74; background-color: #272822\">\"a\"</span><span style=\"color: #f8f8f2; text-decoration-color: #f8f8f2; background-color: #272822\">, </span><span style=\"color: #e6db74; text-decoration-color: #e6db74; background-color: #272822\">\"b\"</span><span style=\"color: #f8f8f2; text-decoration-color: #f8f8f2; background-color: #272822\">], data</span><span style=\"color: #ff4689; text-decoration-color: #ff4689; background-color: #272822\">=</span><span style=\"color: #f8f8f2; text-decoration-color: #f8f8f2; background-color: #272822\">[[</span><span style=\"color: #e6db74; text-decoration-color: #e6db74; background-color: #272822\">\"a1\"</span><span style=\"color: #f8f8f2; text-decoration-color: #f8f8f2; background-color: #272822\">, </span><span style=\"color: #e6db74; text-decoration-color: #e6db74; background-color: #272822\">\"b1\"</span><span style=\"color: #f8f8f2; text-decoration-color: #f8f8f2; background-color: #272822\">], [</span><span style=\"color: #e6db74; text-decoration-color: #e6db74; background-color: #272822\">\"a2\"</span><span style=\"color: #f8f8f2; text-decoration-color: #f8f8f2; background-color: #272822\">, </span><span style=\"color: #e6db74; text-decoration-color: #e6db74; background-color: #272822\">\"b2\"</span><span style=\"color: #f8f8f2; text-decoration-color: #f8f8f2; background-color: #272822\">]])</span><span style=\"background-color: #272822\">                                     </span>\n",
       "<span style=\"background-color: #272822\"> </span><span style=\"color: #f8f8f2; text-decoration-color: #f8f8f2; background-color: #272822\">run</span><span style=\"color: #ff4689; text-decoration-color: #ff4689; background-color: #272822\">.</span><span style=\"color: #f8f8f2; text-decoration-color: #f8f8f2; background-color: #272822\">log({</span><span style=\"color: #e6db74; text-decoration-color: #e6db74; background-color: #272822\">\"Table Name\"</span><span style=\"color: #f8f8f2; text-decoration-color: #f8f8f2; background-color: #272822\">: my_table})</span><span style=\"background-color: #272822\">                                                                                 </span>\n",
       "<span style=\"background-color: #272822\">                                                                                                                   \n",
       "</span>\n",
       "You can optionally pass in a Pandas DataFrame to <span style=\"color: #008080; text-decoration-color: #008080; background-color: #000000; font-weight: bold\">wandb.Table()</span> Class. For more information on supported data types,\n",
       "see the <a href=\"../../ref/python/data-types/table.md\" target=\"_blank\"><span style=\"color: #008080; text-decoration-color: #008080; background-color: #000000; font-weight: bold; text-decoration: underline\">wandb.Table</span></a> in the W&amp;B API Reference Guide.                                                                \n",
       "\n",
       "\n",
       "                                       <span style=\"font-weight: bold; text-decoration: underline\">2. Visualize tables in the workspace</span>                                        \n",
       "\n",
       "View the resulting table in your workspace. Navigate to the W&amp;B App and select the name of your Run in your Project\n",
       "workspace. A new panel is added for each unique table key.                                                         \n",
       "\n",
       "🌆 <a href=\"/images/data_vis/wandb_demo_logged_sample_table.png\" target=\"_blank\">wandb_demo_logged_sample_table.png</a>                                                                                                                    \n",
       "\n",
       "In this example, <span style=\"color: #008080; text-decoration-color: #008080; background-color: #000000; font-weight: bold\">my_table</span>, is logged under the key <span style=\"color: #008080; text-decoration-color: #008080; background-color: #000000; font-weight: bold\">\"Table Name\"</span>.                                                   \n",
       "\n",
       "\n",
       "                                         <span style=\"font-weight: bold; text-decoration: underline\">3. Compare across model versions</span>                                          \n",
       "\n",
       "Log sample tables from multiple W&amp;B Runs and compare results in the project workspace. In this <a href=\"https://wandb.ai/carey/table-test?workspace=user-carey\" target=\"_blank\"><span style=\"color: #000080; text-decoration-color: #000080; text-decoration: underline\">example workspace</span></a>,  \n",
       "we show how to combine rows from multiple different versions in the same table.                                    \n",
       "\n",
       "🌆 <a href=\"/images/data_vis/wandb_demo_toggle_on_and_off_cross_run_comparisons_in_tables.gif\" target=\"_blank\">wandb_demo_toggle_on_and_off_cross_run_comparisons_in_tables.gif</a>                                                                                                                    \n",
       "\n",
       "Use the table filter, sort, and grouping features to explore and evaluate model Let's start!                       \n",
       "</pre>\n"
      ],
      "text/plain": [
       "\n",
       "     \u001b[1;4mGenerate a support question from a W&B user\u001b[0m\u001b[1;4m \u001b[0m\u001b[1;4mThe question should be answerable by provided fragment of W&B\u001b[0m     \n",
       "   \u001b[1;4mdocumentation.\u001b[0m\u001b[1;4m \u001b[0m\u001b[1;4mBelow you will find a fragment of W&B documentation:\u001b[0m\u001b[1;4m \u001b[0m\u001b[1;4mW&B Tables with this 5 minute Quickstart.\u001b[0m   \n",
       "\n",
       "┏━━━━━━━━━━━━━━━━━━━━━━━━━━━━━━━━━━━━━━━━━━━━━━━━━━━━━━━━━━━━━━━━━━━━━━━━━━━━━━━━━━━━━━━━━━━━━━━━━━━━━━━━━━━━━━━━━┓\n",
       "┃                                                \u001b[1mTables Quickstart\u001b[0m                                                ┃\n",
       "┗━━━━━━━━━━━━━━━━━━━━━━━━━━━━━━━━━━━━━━━━━━━━━━━━━━━━━━━━━━━━━━━━━━━━━━━━━━━━━━━━━━━━━━━━━━━━━━━━━━━━━━━━━━━━━━━━━┛\n",
       "\n",
       "The following Quickstart demonstrates how to log data tables, visualize data, and query data.                      \n",
       "\n",
       "🌆 \u001b]8;id=144457;http://wandb.me/tables-quickstart\u001b\\\u001b[4;34mOpen In Colab\u001b[0m\u001b]8;;\u001b\\ Select the button below to try a PyTorch Quickstart example project on MNIST data.                                 \n",
       "\n",
       "\n",
       "                                                  \u001b[1;4m1. Log a table\u001b[0m                                                   \n",
       "\n",
       "Follow the procedure outlined below to log a Table with W&B:                                                       \n",
       "\n",
       "\u001b[1;33m 1 \u001b[0mInitialize a W&B Run with \u001b]8;id=979346;../../ref/python/init.md\u001b\\\u001b[1;4;36;40mwandb.init()\u001b[0m\u001b]8;;\u001b\\.                                                                         \n",
       "\u001b[1;33m 2 \u001b[0mCreate a \u001b]8;id=572502;../../ref/python/data-types/table.md\u001b\\\u001b[1;4;36;40mwandb.Table()\u001b[0m\u001b]8;;\u001b\\ object instance. Pass the name of the columns in your table along with the data for the  \n",
       "\u001b[1;33m   \u001b[0m\u001b[1;36;40mcolumns\u001b[0m and \u001b[1;36;40mdata\u001b[0m parameters, respectively.                                                                      \n",
       "\u001b[1;33m 3 \u001b[0mLog the table with \u001b]8;id=619556;../../ref/python/log.md\u001b\\\u001b[1;4;36;40mrun.log()\u001b[0m\u001b]8;;\u001b\\ as a key-value pair. Provide a name for your table for the key, and pass the object\n",
       "\u001b[1;33m   \u001b[0minstance of \u001b[1;36;40mwandb.Table\u001b[0m as the value.                                                                           \n",
       "\n",
       "\u001b[48;2;39;40;34m                                                                                                                   \n",
       "\u001b[0m\u001b[48;2;39;40;34m \u001b[0m\u001b[38;2;248;248;242;48;2;39;40;34mrun\u001b[0m\u001b[38;2;248;248;242;48;2;39;40;34m \u001b[0m\u001b[38;2;255;70;137;48;2;39;40;34m=\u001b[0m\u001b[38;2;248;248;242;48;2;39;40;34m \u001b[0m\u001b[38;2;248;248;242;48;2;39;40;34mwandb\u001b[0m\u001b[38;2;255;70;137;48;2;39;40;34m.\u001b[0m\u001b[38;2;248;248;242;48;2;39;40;34minit\u001b[0m\u001b[38;2;248;248;242;48;2;39;40;34m(\u001b[0m\u001b[38;2;248;248;242;48;2;39;40;34mproject\u001b[0m\u001b[38;2;255;70;137;48;2;39;40;34m=\u001b[0m\u001b[38;2;230;219;116;48;2;39;40;34m\"\u001b[0m\u001b[38;2;230;219;116;48;2;39;40;34mtable-test\u001b[0m\u001b[38;2;230;219;116;48;2;39;40;34m\"\u001b[0m\u001b[38;2;248;248;242;48;2;39;40;34m)\u001b[0m\u001b[48;2;39;40;34m                                                                           \u001b[0m\u001b[48;2;39;40;34m \u001b[0m\n",
       "\u001b[48;2;39;40;34m \u001b[0m\u001b[38;2;248;248;242;48;2;39;40;34mmy_table\u001b[0m\u001b[38;2;248;248;242;48;2;39;40;34m \u001b[0m\u001b[38;2;255;70;137;48;2;39;40;34m=\u001b[0m\u001b[38;2;248;248;242;48;2;39;40;34m \u001b[0m\u001b[38;2;248;248;242;48;2;39;40;34mwandb\u001b[0m\u001b[38;2;255;70;137;48;2;39;40;34m.\u001b[0m\u001b[38;2;248;248;242;48;2;39;40;34mTable\u001b[0m\u001b[38;2;248;248;242;48;2;39;40;34m(\u001b[0m\u001b[38;2;248;248;242;48;2;39;40;34mcolumns\u001b[0m\u001b[38;2;255;70;137;48;2;39;40;34m=\u001b[0m\u001b[38;2;248;248;242;48;2;39;40;34m[\u001b[0m\u001b[38;2;230;219;116;48;2;39;40;34m\"\u001b[0m\u001b[38;2;230;219;116;48;2;39;40;34ma\u001b[0m\u001b[38;2;230;219;116;48;2;39;40;34m\"\u001b[0m\u001b[38;2;248;248;242;48;2;39;40;34m,\u001b[0m\u001b[38;2;248;248;242;48;2;39;40;34m \u001b[0m\u001b[38;2;230;219;116;48;2;39;40;34m\"\u001b[0m\u001b[38;2;230;219;116;48;2;39;40;34mb\u001b[0m\u001b[38;2;230;219;116;48;2;39;40;34m\"\u001b[0m\u001b[38;2;248;248;242;48;2;39;40;34m]\u001b[0m\u001b[38;2;248;248;242;48;2;39;40;34m,\u001b[0m\u001b[38;2;248;248;242;48;2;39;40;34m \u001b[0m\u001b[38;2;248;248;242;48;2;39;40;34mdata\u001b[0m\u001b[38;2;255;70;137;48;2;39;40;34m=\u001b[0m\u001b[38;2;248;248;242;48;2;39;40;34m[\u001b[0m\u001b[38;2;248;248;242;48;2;39;40;34m[\u001b[0m\u001b[38;2;230;219;116;48;2;39;40;34m\"\u001b[0m\u001b[38;2;230;219;116;48;2;39;40;34ma1\u001b[0m\u001b[38;2;230;219;116;48;2;39;40;34m\"\u001b[0m\u001b[38;2;248;248;242;48;2;39;40;34m,\u001b[0m\u001b[38;2;248;248;242;48;2;39;40;34m \u001b[0m\u001b[38;2;230;219;116;48;2;39;40;34m\"\u001b[0m\u001b[38;2;230;219;116;48;2;39;40;34mb1\u001b[0m\u001b[38;2;230;219;116;48;2;39;40;34m\"\u001b[0m\u001b[38;2;248;248;242;48;2;39;40;34m]\u001b[0m\u001b[38;2;248;248;242;48;2;39;40;34m,\u001b[0m\u001b[38;2;248;248;242;48;2;39;40;34m \u001b[0m\u001b[38;2;248;248;242;48;2;39;40;34m[\u001b[0m\u001b[38;2;230;219;116;48;2;39;40;34m\"\u001b[0m\u001b[38;2;230;219;116;48;2;39;40;34ma2\u001b[0m\u001b[38;2;230;219;116;48;2;39;40;34m\"\u001b[0m\u001b[38;2;248;248;242;48;2;39;40;34m,\u001b[0m\u001b[38;2;248;248;242;48;2;39;40;34m \u001b[0m\u001b[38;2;230;219;116;48;2;39;40;34m\"\u001b[0m\u001b[38;2;230;219;116;48;2;39;40;34mb2\u001b[0m\u001b[38;2;230;219;116;48;2;39;40;34m\"\u001b[0m\u001b[38;2;248;248;242;48;2;39;40;34m]\u001b[0m\u001b[38;2;248;248;242;48;2;39;40;34m]\u001b[0m\u001b[38;2;248;248;242;48;2;39;40;34m)\u001b[0m\u001b[48;2;39;40;34m                                    \u001b[0m\u001b[48;2;39;40;34m \u001b[0m\n",
       "\u001b[48;2;39;40;34m \u001b[0m\u001b[38;2;248;248;242;48;2;39;40;34mrun\u001b[0m\u001b[38;2;255;70;137;48;2;39;40;34m.\u001b[0m\u001b[38;2;248;248;242;48;2;39;40;34mlog\u001b[0m\u001b[38;2;248;248;242;48;2;39;40;34m(\u001b[0m\u001b[38;2;248;248;242;48;2;39;40;34m{\u001b[0m\u001b[38;2;230;219;116;48;2;39;40;34m\"\u001b[0m\u001b[38;2;230;219;116;48;2;39;40;34mTable Name\u001b[0m\u001b[38;2;230;219;116;48;2;39;40;34m\"\u001b[0m\u001b[38;2;248;248;242;48;2;39;40;34m:\u001b[0m\u001b[38;2;248;248;242;48;2;39;40;34m \u001b[0m\u001b[38;2;248;248;242;48;2;39;40;34mmy_table\u001b[0m\u001b[38;2;248;248;242;48;2;39;40;34m}\u001b[0m\u001b[38;2;248;248;242;48;2;39;40;34m)\u001b[0m\u001b[48;2;39;40;34m                                                                                \u001b[0m\u001b[48;2;39;40;34m \u001b[0m\n",
       "\u001b[48;2;39;40;34m                                                                                                                   \n",
       "\u001b[0m\n",
       "You can optionally pass in a Pandas DataFrame to \u001b[1;36;40mwandb.Table()\u001b[0m Class. For more information on supported data types,\n",
       "see the \u001b]8;id=328602;../../ref/python/data-types/table.md\u001b\\\u001b[1;4;36;40mwandb.Table\u001b[0m\u001b]8;;\u001b\\ in the W&B API Reference Guide.                                                                \n",
       "\n",
       "\n",
       "                                       \u001b[1;4m2. Visualize tables in the workspace\u001b[0m                                        \n",
       "\n",
       "View the resulting table in your workspace. Navigate to the W&B App and select the name of your Run in your Project\n",
       "workspace. A new panel is added for each unique table key.                                                         \n",
       "\n",
       "🌆 \u001b]8;id=96631;/images/data_vis/wandb_demo_logged_sample_table.png\u001b\\wandb_demo_logged_sample_table.png\u001b]8;;\u001b\\                                                                                                                    \n",
       "\n",
       "In this example, \u001b[1;36;40mmy_table\u001b[0m, is logged under the key \u001b[1;36;40m\"Table Name\"\u001b[0m.                                                   \n",
       "\n",
       "\n",
       "                                         \u001b[1;4m3. Compare across model versions\u001b[0m                                          \n",
       "\n",
       "Log sample tables from multiple W&B Runs and compare results in the project workspace. In this \u001b]8;id=333199;https://wandb.ai/carey/table-test?workspace=user-carey\u001b\\\u001b[4;34mexample workspace\u001b[0m\u001b]8;;\u001b\\,  \n",
       "we show how to combine rows from multiple different versions in the same table.                                    \n",
       "\n",
       "🌆 \u001b]8;id=829458;/images/data_vis/wandb_demo_toggle_on_and_off_cross_run_comparisons_in_tables.gif\u001b\\wandb_demo_toggle_on_and_off_cross_run_comparisons_in_tables.gif\u001b]8;;\u001b\\                                                                                                                    \n",
       "\n",
       "Use the table filter, sort, and grouping features to explore and evaluate model Let's start!                       \n"
      ]
     },
     "execution_count": 25,
     "metadata": {},
     "output_type": "execute_result"
    }
   ],
   "source": [
    "Markdown(generation_prompt)"
   ]
  },
  {
   "cell_type": "markdown",
   "metadata": {},
   "source": [
    "Let's generate 3 possible questions:"
   ]
  },
  {
   "cell_type": "code",
   "execution_count": 26,
   "metadata": {},
   "outputs": [
    {
     "data": {
      "text/html": [
       "<pre style=\"white-space:pre;overflow-x:auto;line-height:normal;font-family:Menlo,'DejaVu Sans Mono',consolas,'Courier New',monospace\">Support Question: How can I log a table with the W&amp;B API?                                                          \n",
       "\n",
       "Answer: You can log a table with the W&amp;B API by following these steps:                                             \n",
       "\n",
       "<span style=\"color: #808000; text-decoration-color: #808000; font-weight: bold\"> 1 </span>Initialize a W&amp;B Run with <span style=\"color: #008080; text-decoration-color: #008080; background-color: #000000; font-weight: bold\">wandb.init()</span>.                                                                         \n",
       "<span style=\"color: #808000; text-decoration-color: #808000; font-weight: bold\"> 2 </span>Create a <span style=\"color: #008080; text-decoration-color: #008080; background-color: #000000; font-weight: bold\">wandb.Table()</span> object instance, specifying the columns and data for the table.                          \n",
       "<span style=\"color: #808000; text-decoration-color: #808000; font-weight: bold\"> 3 </span>Log the table using <span style=\"color: #008080; text-decoration-color: #008080; background-color: #000000; font-weight: bold\">run.log()</span> by providing a key (table name) and the <span style=\"color: #008080; text-decoration-color: #008080; background-color: #000000; font-weight: bold\">wandb.Table</span> object instance as the value. \n",
       "\n",
       "For example:                                                                                                       \n",
       "\n",
       "<span style=\"background-color: #272822\">                                                                                                                   \n",
       " </span><span style=\"color: #ff4689; text-decoration-color: #ff4689; background-color: #272822\">import</span><span style=\"color: #f8f8f2; text-decoration-color: #f8f8f2; background-color: #272822\"> wandb</span><span style=\"background-color: #272822\">                                                                                                      </span>\n",
       "<span style=\"background-color: #272822\">                                                                                                                   </span>\n",
       "<span style=\"background-color: #272822\"> </span><span style=\"color: #f8f8f2; text-decoration-color: #f8f8f2; background-color: #272822\">run </span><span style=\"color: #ff4689; text-decoration-color: #ff4689; background-color: #272822\">=</span><span style=\"color: #f8f8f2; text-decoration-color: #f8f8f2; background-color: #272822\"> wandb</span><span style=\"color: #ff4689; text-decoration-color: #ff4689; background-color: #272822\">.</span><span style=\"color: #f8f8f2; text-decoration-color: #f8f8f2; background-color: #272822\">init(project</span><span style=\"color: #ff4689; text-decoration-color: #ff4689; background-color: #272822\">=</span><span style=\"color: #e6db74; text-decoration-color: #e6db74; background-color: #272822\">\"table-test\"</span><span style=\"color: #f8f8f2; text-decoration-color: #f8f8f2; background-color: #272822\">)</span><span style=\"background-color: #272822\">                                                                            </span>\n",
       "<span style=\"background-color: #272822\"> </span><span style=\"color: #f8f8f2; text-decoration-color: #f8f8f2; background-color: #272822\">my_table </span><span style=\"color: #ff4689; text-decoration-color: #ff4689; background-color: #272822\">=</span><span style=\"color: #f8f8f2; text-decoration-color: #f8f8f2; background-color: #272822\"> wandb</span><span style=\"color: #ff4689; text-decoration-color: #ff4689; background-color: #272822\">.</span><span style=\"color: #f8f8f2; text-decoration-color: #f8f8f2; background-color: #272822\">Table(columns</span><span style=\"color: #ff4689; text-decoration-color: #ff4689; background-color: #272822\">=</span><span style=\"color: #f8f8f2; text-decoration-color: #f8f8f2; background-color: #272822\">[</span><span style=\"color: #e6db74; text-decoration-color: #e6db74; background-color: #272822\">\"a\"</span><span style=\"color: #f8f8f2; text-decoration-color: #f8f8f2; background-color: #272822\">, </span><span style=\"color: #e6db74; text-decoration-color: #e6db74; background-color: #272822\">\"b\"</span><span style=\"color: #f8f8f2; text-decoration-color: #f8f8f2; background-color: #272822\">], data</span><span style=\"color: #ff4689; text-decoration-color: #ff4689; background-color: #272822\">=</span><span style=\"color: #f8f8f2; text-decoration-color: #f8f8f2; background-color: #272822\">[[</span><span style=\"color: #e6db74; text-decoration-color: #e6db74; background-color: #272822\">\"a1\"</span><span style=\"color: #f8f8f2; text-decoration-color: #f8f8f2; background-color: #272822\">, </span><span style=\"color: #e6db74; text-decoration-color: #e6db74; background-color: #272822\">\"b1\"</span><span style=\"color: #f8f8f2; text-decoration-color: #f8f8f2; background-color: #272822\">], [</span><span style=\"color: #e6db74; text-decoration-color: #e6db74; background-color: #272822\">\"a2\"</span><span style=\"color: #f8f8f2; text-decoration-color: #f8f8f2; background-color: #272822\">, </span><span style=\"color: #e6db74; text-decoration-color: #e6db74; background-color: #272822\">\"b2\"</span><span style=\"color: #f8f8f2; text-decoration-color: #f8f8f2; background-color: #272822\">]])</span><span style=\"background-color: #272822\">                                     </span>\n",
       "<span style=\"background-color: #272822\"> </span><span style=\"color: #f8f8f2; text-decoration-color: #f8f8f2; background-color: #272822\">run</span><span style=\"color: #ff4689; text-decoration-color: #ff4689; background-color: #272822\">.</span><span style=\"color: #f8f8f2; text-decoration-color: #f8f8f2; background-color: #272822\">log({</span><span style=\"color: #e6db74; text-decoration-color: #e6db74; background-color: #272822\">\"Table Name\"</span><span style=\"color: #f8f8f2; text-decoration-color: #f8f8f2; background-color: #272822\">: my_table})</span><span style=\"background-color: #272822\">                                                                                 </span>\n",
       "<span style=\"background-color: #272822\">                                                                                                                   \n",
       "</span>\n",
       "You can also pass a Pandas DataFrame to <span style=\"color: #008080; text-decoration-color: #008080; background-color: #000000; font-weight: bold\">wandb.Table()</span> if needed. For more information on supported data types,     \n",
       "refer to the <a href=\"../../ref/python/data-types/table.md\" target=\"_blank\"><span style=\"color: #008080; text-decoration-color: #008080; background-color: #000000; font-weight: bold; text-decoration: underline\">wandb.Table</span></a><a href=\"../../ref/python/data-types/table.md\" target=\"_blank\"><span style=\"color: #000080; text-decoration-color: #000080; text-decoration: underline\"> documentation</span></a>.                                                                            \n",
       "</pre>\n"
      ],
      "text/plain": [
       "Support Question: How can I log a table with the W&B API?                                                          \n",
       "\n",
       "Answer: You can log a table with the W&B API by following these steps:                                             \n",
       "\n",
       "\u001b[1;33m 1 \u001b[0mInitialize a W&B Run with \u001b[1;36;40mwandb.init()\u001b[0m.                                                                         \n",
       "\u001b[1;33m 2 \u001b[0mCreate a \u001b[1;36;40mwandb.Table()\u001b[0m object instance, specifying the columns and data for the table.                          \n",
       "\u001b[1;33m 3 \u001b[0mLog the table using \u001b[1;36;40mrun.log()\u001b[0m by providing a key (table name) and the \u001b[1;36;40mwandb.Table\u001b[0m object instance as the value. \n",
       "\n",
       "For example:                                                                                                       \n",
       "\n",
       "\u001b[48;2;39;40;34m                                                                                                                   \n",
       "\u001b[0m\u001b[48;2;39;40;34m \u001b[0m\u001b[38;2;255;70;137;48;2;39;40;34mimport\u001b[0m\u001b[38;2;248;248;242;48;2;39;40;34m \u001b[0m\u001b[38;2;248;248;242;48;2;39;40;34mwandb\u001b[0m\u001b[48;2;39;40;34m                                                                                                     \u001b[0m\u001b[48;2;39;40;34m \u001b[0m\n",
       "\u001b[48;2;39;40;34m \u001b[0m\u001b[48;2;39;40;34m                                                                                                                 \u001b[0m\u001b[48;2;39;40;34m \u001b[0m\n",
       "\u001b[48;2;39;40;34m \u001b[0m\u001b[38;2;248;248;242;48;2;39;40;34mrun\u001b[0m\u001b[38;2;248;248;242;48;2;39;40;34m \u001b[0m\u001b[38;2;255;70;137;48;2;39;40;34m=\u001b[0m\u001b[38;2;248;248;242;48;2;39;40;34m \u001b[0m\u001b[38;2;248;248;242;48;2;39;40;34mwandb\u001b[0m\u001b[38;2;255;70;137;48;2;39;40;34m.\u001b[0m\u001b[38;2;248;248;242;48;2;39;40;34minit\u001b[0m\u001b[38;2;248;248;242;48;2;39;40;34m(\u001b[0m\u001b[38;2;248;248;242;48;2;39;40;34mproject\u001b[0m\u001b[38;2;255;70;137;48;2;39;40;34m=\u001b[0m\u001b[38;2;230;219;116;48;2;39;40;34m\"\u001b[0m\u001b[38;2;230;219;116;48;2;39;40;34mtable-test\u001b[0m\u001b[38;2;230;219;116;48;2;39;40;34m\"\u001b[0m\u001b[38;2;248;248;242;48;2;39;40;34m)\u001b[0m\u001b[48;2;39;40;34m                                                                           \u001b[0m\u001b[48;2;39;40;34m \u001b[0m\n",
       "\u001b[48;2;39;40;34m \u001b[0m\u001b[38;2;248;248;242;48;2;39;40;34mmy_table\u001b[0m\u001b[38;2;248;248;242;48;2;39;40;34m \u001b[0m\u001b[38;2;255;70;137;48;2;39;40;34m=\u001b[0m\u001b[38;2;248;248;242;48;2;39;40;34m \u001b[0m\u001b[38;2;248;248;242;48;2;39;40;34mwandb\u001b[0m\u001b[38;2;255;70;137;48;2;39;40;34m.\u001b[0m\u001b[38;2;248;248;242;48;2;39;40;34mTable\u001b[0m\u001b[38;2;248;248;242;48;2;39;40;34m(\u001b[0m\u001b[38;2;248;248;242;48;2;39;40;34mcolumns\u001b[0m\u001b[38;2;255;70;137;48;2;39;40;34m=\u001b[0m\u001b[38;2;248;248;242;48;2;39;40;34m[\u001b[0m\u001b[38;2;230;219;116;48;2;39;40;34m\"\u001b[0m\u001b[38;2;230;219;116;48;2;39;40;34ma\u001b[0m\u001b[38;2;230;219;116;48;2;39;40;34m\"\u001b[0m\u001b[38;2;248;248;242;48;2;39;40;34m,\u001b[0m\u001b[38;2;248;248;242;48;2;39;40;34m \u001b[0m\u001b[38;2;230;219;116;48;2;39;40;34m\"\u001b[0m\u001b[38;2;230;219;116;48;2;39;40;34mb\u001b[0m\u001b[38;2;230;219;116;48;2;39;40;34m\"\u001b[0m\u001b[38;2;248;248;242;48;2;39;40;34m]\u001b[0m\u001b[38;2;248;248;242;48;2;39;40;34m,\u001b[0m\u001b[38;2;248;248;242;48;2;39;40;34m \u001b[0m\u001b[38;2;248;248;242;48;2;39;40;34mdata\u001b[0m\u001b[38;2;255;70;137;48;2;39;40;34m=\u001b[0m\u001b[38;2;248;248;242;48;2;39;40;34m[\u001b[0m\u001b[38;2;248;248;242;48;2;39;40;34m[\u001b[0m\u001b[38;2;230;219;116;48;2;39;40;34m\"\u001b[0m\u001b[38;2;230;219;116;48;2;39;40;34ma1\u001b[0m\u001b[38;2;230;219;116;48;2;39;40;34m\"\u001b[0m\u001b[38;2;248;248;242;48;2;39;40;34m,\u001b[0m\u001b[38;2;248;248;242;48;2;39;40;34m \u001b[0m\u001b[38;2;230;219;116;48;2;39;40;34m\"\u001b[0m\u001b[38;2;230;219;116;48;2;39;40;34mb1\u001b[0m\u001b[38;2;230;219;116;48;2;39;40;34m\"\u001b[0m\u001b[38;2;248;248;242;48;2;39;40;34m]\u001b[0m\u001b[38;2;248;248;242;48;2;39;40;34m,\u001b[0m\u001b[38;2;248;248;242;48;2;39;40;34m \u001b[0m\u001b[38;2;248;248;242;48;2;39;40;34m[\u001b[0m\u001b[38;2;230;219;116;48;2;39;40;34m\"\u001b[0m\u001b[38;2;230;219;116;48;2;39;40;34ma2\u001b[0m\u001b[38;2;230;219;116;48;2;39;40;34m\"\u001b[0m\u001b[38;2;248;248;242;48;2;39;40;34m,\u001b[0m\u001b[38;2;248;248;242;48;2;39;40;34m \u001b[0m\u001b[38;2;230;219;116;48;2;39;40;34m\"\u001b[0m\u001b[38;2;230;219;116;48;2;39;40;34mb2\u001b[0m\u001b[38;2;230;219;116;48;2;39;40;34m\"\u001b[0m\u001b[38;2;248;248;242;48;2;39;40;34m]\u001b[0m\u001b[38;2;248;248;242;48;2;39;40;34m]\u001b[0m\u001b[38;2;248;248;242;48;2;39;40;34m)\u001b[0m\u001b[48;2;39;40;34m                                    \u001b[0m\u001b[48;2;39;40;34m \u001b[0m\n",
       "\u001b[48;2;39;40;34m \u001b[0m\u001b[38;2;248;248;242;48;2;39;40;34mrun\u001b[0m\u001b[38;2;255;70;137;48;2;39;40;34m.\u001b[0m\u001b[38;2;248;248;242;48;2;39;40;34mlog\u001b[0m\u001b[38;2;248;248;242;48;2;39;40;34m(\u001b[0m\u001b[38;2;248;248;242;48;2;39;40;34m{\u001b[0m\u001b[38;2;230;219;116;48;2;39;40;34m\"\u001b[0m\u001b[38;2;230;219;116;48;2;39;40;34mTable Name\u001b[0m\u001b[38;2;230;219;116;48;2;39;40;34m\"\u001b[0m\u001b[38;2;248;248;242;48;2;39;40;34m:\u001b[0m\u001b[38;2;248;248;242;48;2;39;40;34m \u001b[0m\u001b[38;2;248;248;242;48;2;39;40;34mmy_table\u001b[0m\u001b[38;2;248;248;242;48;2;39;40;34m}\u001b[0m\u001b[38;2;248;248;242;48;2;39;40;34m)\u001b[0m\u001b[48;2;39;40;34m                                                                                \u001b[0m\u001b[48;2;39;40;34m \u001b[0m\n",
       "\u001b[48;2;39;40;34m                                                                                                                   \n",
       "\u001b[0m\n",
       "You can also pass a Pandas DataFrame to \u001b[1;36;40mwandb.Table()\u001b[0m if needed. For more information on supported data types,     \n",
       "refer to the \u001b]8;id=683441;../../ref/python/data-types/table.md\u001b\\\u001b[1;4;36;40mwandb.Table\u001b[0m\u001b]8;;\u001b\\\u001b]8;id=188530;../../ref/python/data-types/table.md\u001b\\\u001b[4;34m documentation\u001b[0m\u001b]8;;\u001b\\.                                                                            \n"
      ]
     },
     "metadata": {},
     "output_type": "display_data"
    },
    {
     "data": {
      "text/html": [
       "<pre style=\"white-space:pre;overflow-x:auto;line-height:normal;font-family:Menlo,'DejaVu Sans Mono',consolas,'Courier New',monospace\">Support question: How can I log a table with W&amp;B using a Pandas DataFrame?                                         \n",
       "\n",
       "Answer: You can log a table with W&amp;B using a Pandas DataFrame by initializing a W&amp;B Run, creating a <span style=\"color: #008080; text-decoration-color: #008080; background-color: #000000; font-weight: bold\">wandb.Table()</span>  \n",
       "object instance, and passing the DataFrame to the <span style=\"color: #008080; text-decoration-color: #008080; background-color: #000000; font-weight: bold\">wandb.Table()</span> Class. You can then log the table with <span style=\"color: #008080; text-decoration-color: #008080; background-color: #000000; font-weight: bold\">run.log()</span> as\n",
       "a key-value pair. For more information, you can refer to the <a href=\"../../ref/python/data-types/table.md\" target=\"_blank\"><span style=\"color: #008080; text-decoration-color: #008080; background-color: #000000; font-weight: bold; text-decoration: underline\">wandb.Table</span></a> documentation in the W&amp;B API Reference    \n",
       "Guide.                                                                                                             \n",
       "</pre>\n"
      ],
      "text/plain": [
       "Support question: How can I log a table with W&B using a Pandas DataFrame?                                         \n",
       "\n",
       "Answer: You can log a table with W&B using a Pandas DataFrame by initializing a W&B Run, creating a \u001b[1;36;40mwandb.Table()\u001b[0m  \n",
       "object instance, and passing the DataFrame to the \u001b[1;36;40mwandb.Table()\u001b[0m Class. You can then log the table with \u001b[1;36;40mrun.log()\u001b[0m as\n",
       "a key-value pair. For more information, you can refer to the \u001b]8;id=821034;../../ref/python/data-types/table.md\u001b\\\u001b[1;4;36;40mwandb.Table\u001b[0m\u001b]8;;\u001b\\ documentation in the W&B API Reference    \n",
       "Guide.                                                                                                             \n"
      ]
     },
     "metadata": {},
     "output_type": "display_data"
    },
    {
     "data": {
      "text/html": [
       "<pre style=\"white-space:pre;overflow-x:auto;line-height:normal;font-family:Menlo,'DejaVu Sans Mono',consolas,'Courier New',monospace\">Support Question: How can I log a table with W&amp;B and visualize it in the workspace?                                \n",
       "\n",
       "Answer: To log a table with W&amp;B, you can follow these steps:                                                       \n",
       "\n",
       "<span style=\"color: #808000; text-decoration-color: #808000; font-weight: bold\"> 1 </span>Initialize a W&amp;B Run using <span style=\"color: #008080; text-decoration-color: #008080; background-color: #000000; font-weight: bold\">wandb.init()</span>.                                                                        \n",
       "<span style=\"color: #808000; text-decoration-color: #808000; font-weight: bold\"> 2 </span>Create a <span style=\"color: #008080; text-decoration-color: #008080; background-color: #000000; font-weight: bold\">wandb.Table()</span> object instance by specifying the columns and data for the table.                        \n",
       "<span style=\"color: #808000; text-decoration-color: #808000; font-weight: bold\"> 3 </span>Log the table using <span style=\"color: #008080; text-decoration-color: #008080; background-color: #000000; font-weight: bold\">run.log()</span> by providing a name for your table and passing the <span style=\"color: #008080; text-decoration-color: #008080; background-color: #000000; font-weight: bold\">wandb.Table</span> object instance as \n",
       "<span style=\"color: #808000; text-decoration-color: #808000; font-weight: bold\">   </span>the value.                                                                                                      \n",
       "\n",
       "You can then visualize the table in your workspace by navigating to the W&amp;B App, selecting the name of your Run,   \n",
       "and viewing the table under the corresponding key.                                                                 \n",
       "</pre>\n"
      ],
      "text/plain": [
       "Support Question: How can I log a table with W&B and visualize it in the workspace?                                \n",
       "\n",
       "Answer: To log a table with W&B, you can follow these steps:                                                       \n",
       "\n",
       "\u001b[1;33m 1 \u001b[0mInitialize a W&B Run using \u001b[1;36;40mwandb.init()\u001b[0m.                                                                        \n",
       "\u001b[1;33m 2 \u001b[0mCreate a \u001b[1;36;40mwandb.Table()\u001b[0m object instance by specifying the columns and data for the table.                        \n",
       "\u001b[1;33m 3 \u001b[0mLog the table using \u001b[1;36;40mrun.log()\u001b[0m by providing a name for your table and passing the \u001b[1;36;40mwandb.Table\u001b[0m object instance as \n",
       "\u001b[1;33m   \u001b[0mthe value.                                                                                                      \n",
       "\n",
       "You can then visualize the table in your workspace by navigating to the W&B App, selecting the name of your Run,   \n",
       "and viewing the table under the corresponding key.                                                                 \n"
      ]
     },
     "metadata": {},
     "output_type": "display_data"
    }
   ],
   "source": [
    "generate_and_print(system_prompt, generation_prompt, n=3)"
   ]
  },
  {
   "cell_type": "markdown",
   "metadata": {},
   "source": [
    "> As you can see, sometimes the generation contains an intro phrase like: \"Sure, here's a support question based on the documentation:\", we may want to put some instructions to avoid this."
   ]
  },
  {
   "cell_type": "markdown",
   "metadata": {},
   "source": [
    "### Level 5 prompt\n",
    "\n",
    "Complex directive that includes the following:\n",
    "- Description of high-level goal\n",
    "- A detailed bulleted list of sub-tasks\n",
    "- An explicit statement asking LLM to explain its own output\n",
    "- A guideline on how LLM output will be evaluated\n",
    "- Few-shot examples"
   ]
  },
  {
   "cell_type": "code",
   "execution_count": 27,
   "metadata": {},
   "outputs": [],
   "source": [
    "# we will use GPT4 from here, as it gives better answers and abides to instructions better\n",
    "MODEL_NAME = \"gpt-4\""
   ]
  },
  {
   "cell_type": "code",
   "execution_count": 28,
   "metadata": {},
   "outputs": [],
   "source": [
    "# read system_template.txt file into an f-string\n",
    "with open(\"system_template.txt\", \"r\") as file:\n",
    "    system_prompt = file.read()"
   ]
  },
  {
   "cell_type": "code",
   "execution_count": 29,
   "metadata": {},
   "outputs": [
    {
     "data": {
      "text/html": [
       "<pre style=\"white-space:pre;overflow-x:auto;line-height:normal;font-family:Menlo,'DejaVu Sans Mono',consolas,'Courier New',monospace\">You are a creative assistant with the goal to generate a synthetic dataset of Weights &amp; Biases (W&amp;B) user          \n",
       "questions. W&amp;B users are asking these questions to a bot, so they don't know the answer and their questions are    \n",
       "grounded in what they're trying to achieve. We are interested in questions that can be answered by W&amp;B             \n",
       "documentation. But the users don't have access to this documentation, so you need to imagine what they're trying to\n",
       "do and use according language.                                                                                     \n",
       "</pre>\n"
      ],
      "text/plain": [
       "You are a creative assistant with the goal to generate a synthetic dataset of Weights & Biases (W&B) user          \n",
       "questions. W&B users are asking these questions to a bot, so they don't know the answer and their questions are    \n",
       "grounded in what they're trying to achieve. We are interested in questions that can be answered by W&B             \n",
       "documentation. But the users don't have access to this documentation, so you need to imagine what they're trying to\n",
       "do and use according language.                                                                                     \n"
      ]
     },
     "execution_count": 29,
     "metadata": {},
     "output_type": "execute_result"
    }
   ],
   "source": [
    "Markdown(system_prompt)"
   ]
  },
  {
   "cell_type": "code",
   "execution_count": 30,
   "metadata": {},
   "outputs": [],
   "source": [
    "# read prompt_template.txt file into an f-string\n",
    "with open(\"prompt_template.txt\", \"r\") as file:\n",
    "    prompt_template = file.read()"
   ]
  },
  {
   "cell_type": "code",
   "execution_count": 31,
   "metadata": {},
   "outputs": [
    {
     "data": {
      "text/html": [
       "<pre style=\"white-space:pre;overflow-x:auto;line-height:normal;font-family:Menlo,'DejaVu Sans Mono',consolas,'Courier New',monospace\">Here are some examples of real user questions, you will be judged by how well you match this distribution.         \n",
       "\n",
       "<span style=\"color: #808000; text-decoration-color: #808000\">───────────────────────────────────────────────────────────────────────────────────────────────────────────────────</span>\n",
       "{QUESTIONS}                                                                                                        \n",
       "\n",
       "<span style=\"color: #808000; text-decoration-color: #808000\">───────────────────────────────────────────────────────────────────────────────────────────────────────────────────</span>\n",
       "In the next step, you will read a fragment of W&amp;B documentation. This will serve as inspiration for synthetic user \n",
       "question and the source of the answer. Here is the document fragment:                                              \n",
       "\n",
       "<span style=\"color: #808000; text-decoration-color: #808000\">───────────────────────────────────────────────────────────────────────────────────────────────────────────────────</span>\n",
       "{CHUNK}                                                                                                            \n",
       "\n",
       "<span style=\"color: #808000; text-decoration-color: #808000\">───────────────────────────────────────────────────────────────────────────────────────────────────────────────────</span>\n",
       "You will now generate a user question and corresponding answer based on the above document. First, explain the user\n",
       "context and what problems they might be trying to solve. Second, generate user question. Third, provide the        \n",
       "accurate and concise answer in markdown format to the user question using the documentation. You'll be evaluated   \n",
       "on:                                                                                                                \n",
       "\n",
       "<span style=\"color: #808000; text-decoration-color: #808000; font-weight: bold\"> • </span>how realistic is that this question will come from a real user one day?                                         \n",
       "<span style=\"color: #808000; text-decoration-color: #808000; font-weight: bold\"> • </span>is this question about W&amp;B?                                                                                     \n",
       "<span style=\"color: #808000; text-decoration-color: #808000; font-weight: bold\"> • </span>can the question be answered using the W&amp;B document fragment above?                                             \n",
       "<span style=\"color: #808000; text-decoration-color: #808000; font-weight: bold\"> • </span>how accurate is the answer? Remember that users have different styles and can be imprecise. You are very good at\n",
       "<span style=\"color: #808000; text-decoration-color: #808000; font-weight: bold\">   </span>impersonating them! Use the following format: CONTEXT: QUESTION: ANSWER: Let's start!                           \n",
       "</pre>\n"
      ],
      "text/plain": [
       "Here are some examples of real user questions, you will be judged by how well you match this distribution.         \n",
       "\n",
       "\u001b[33m───────────────────────────────────────────────────────────────────────────────────────────────────────────────────\u001b[0m\n",
       "{QUESTIONS}                                                                                                        \n",
       "\n",
       "\u001b[33m───────────────────────────────────────────────────────────────────────────────────────────────────────────────────\u001b[0m\n",
       "In the next step, you will read a fragment of W&B documentation. This will serve as inspiration for synthetic user \n",
       "question and the source of the answer. Here is the document fragment:                                              \n",
       "\n",
       "\u001b[33m───────────────────────────────────────────────────────────────────────────────────────────────────────────────────\u001b[0m\n",
       "{CHUNK}                                                                                                            \n",
       "\n",
       "\u001b[33m───────────────────────────────────────────────────────────────────────────────────────────────────────────────────\u001b[0m\n",
       "You will now generate a user question and corresponding answer based on the above document. First, explain the user\n",
       "context and what problems they might be trying to solve. Second, generate user question. Third, provide the        \n",
       "accurate and concise answer in markdown format to the user question using the documentation. You'll be evaluated   \n",
       "on:                                                                                                                \n",
       "\n",
       "\u001b[1;33m • \u001b[0mhow realistic is that this question will come from a real user one day?                                         \n",
       "\u001b[1;33m • \u001b[0mis this question about W&B?                                                                                     \n",
       "\u001b[1;33m • \u001b[0mcan the question be answered using the W&B document fragment above?                                             \n",
       "\u001b[1;33m • \u001b[0mhow accurate is the answer? Remember that users have different styles and can be imprecise. You are very good at\n",
       "\u001b[1;33m   \u001b[0mimpersonating them! Use the following format: CONTEXT: QUESTION: ANSWER: Let's start!                           \n"
      ]
     },
     "execution_count": 31,
     "metadata": {},
     "output_type": "execute_result"
    }
   ],
   "source": [
    "Markdown(prompt_template)"
   ]
  },
  {
   "cell_type": "code",
   "execution_count": 32,
   "metadata": {},
   "outputs": [],
   "source": [
    "def generate_context_prompt(chunk, n_questions=3):\n",
    "    questions = '\\n'.join(random.sample(real_queries, n_questions))\n",
    "    user_prompt = prompt_template.format(QUESTIONS=questions, CHUNK=chunk)\n",
    "    return user_prompt\n",
    "\n",
    "user_prompt = generate_context_prompt(chunk)"
   ]
  },
  {
   "cell_type": "code",
   "execution_count": 33,
   "metadata": {},
   "outputs": [
    {
     "data": {
      "text/html": [
       "<pre style=\"white-space:pre;overflow-x:auto;line-height:normal;font-family:Menlo,'DejaVu Sans Mono',consolas,'Courier New',monospace\">Here are some examples of real user questions, you will be judged by how well you match this distribution.         \n",
       "\n",
       "<span style=\"color: #808000; text-decoration-color: #808000\">───────────────────────────────────────────────────────────────────────────────────────────────────────────────────</span>\n",
       "how can i get all the versions of an aritfact of a particular type? i have my log from training in a txt file. Can \n",
       "i import that data to wandb so i can visualize the data? Explain how I can version datasets with Weights &amp; Biases. \n",
       "How do I create a new version of a dataset? How does Weights &amp; Biases work with versions? What are some best       \n",
       "practices for versioning datasets?                                                                                 \n",
       "\n",
       "<span style=\"color: #808000; text-decoration-color: #808000\">───────────────────────────────────────────────────────────────────────────────────────────────────────────────────</span>\n",
       "In the next step, you will read a fragment of W&amp;B documentation. This will serve as inspiration for synthetic user \n",
       "question and the source of the answer. Here is the document fragment:                                              \n",
       "\n",
       "<span style=\"color: #808000; text-decoration-color: #808000\">───────────────────────────────────────────────────────────────────────────────────────────────────────────────────</span>\n",
       "\n",
       "                                     <span style=\"font-weight: bold; text-decoration: underline\">W&amp;B Tables with this 5 minute Quickstart.</span>                                     \n",
       "\n",
       "┏━━━━━━━━━━━━━━━━━━━━━━━━━━━━━━━━━━━━━━━━━━━━━━━━━━━━━━━━━━━━━━━━━━━━━━━━━━━━━━━━━━━━━━━━━━━━━━━━━━━━━━━━━━━━━━━━━┓\n",
       "┃                                                <span style=\"font-weight: bold\">Tables Quickstart</span>                                                ┃\n",
       "┗━━━━━━━━━━━━━━━━━━━━━━━━━━━━━━━━━━━━━━━━━━━━━━━━━━━━━━━━━━━━━━━━━━━━━━━━━━━━━━━━━━━━━━━━━━━━━━━━━━━━━━━━━━━━━━━━━┛\n",
       "\n",
       "The following Quickstart demonstrates how to log data tables, visualize data, and query data.                      \n",
       "\n",
       "🌆 <a href=\"http://wandb.me/tables-quickstart\" target=\"_blank\"><span style=\"color: #000080; text-decoration-color: #000080; text-decoration: underline\">Open In Colab</span></a> Select the button below to try a PyTorch Quickstart example project on MNIST data.                                 \n",
       "\n",
       "\n",
       "                                                  <span style=\"font-weight: bold; text-decoration: underline\">1. Log a table</span>                                                   \n",
       "\n",
       "Follow the procedure outlined below to log a Table with W&amp;B:                                                       \n",
       "\n",
       "<span style=\"color: #808000; text-decoration-color: #808000; font-weight: bold\"> 1 </span>Initialize a W&amp;B Run with <a href=\"../../ref/python/init.md\" target=\"_blank\"><span style=\"color: #008080; text-decoration-color: #008080; background-color: #000000; font-weight: bold; text-decoration: underline\">wandb.init()</span></a>.                                                                         \n",
       "<span style=\"color: #808000; text-decoration-color: #808000; font-weight: bold\"> 2 </span>Create a <a href=\"../../ref/python/data-types/table.md\" target=\"_blank\"><span style=\"color: #008080; text-decoration-color: #008080; background-color: #000000; font-weight: bold; text-decoration: underline\">wandb.Table()</span></a> object instance. Pass the name of the columns in your table along with the data for the  \n",
       "<span style=\"color: #808000; text-decoration-color: #808000; font-weight: bold\">   </span><span style=\"color: #008080; text-decoration-color: #008080; background-color: #000000; font-weight: bold\">columns</span> and <span style=\"color: #008080; text-decoration-color: #008080; background-color: #000000; font-weight: bold\">data</span> parameters, respectively.                                                                      \n",
       "<span style=\"color: #808000; text-decoration-color: #808000; font-weight: bold\"> 3 </span>Log the table with <a href=\"../../ref/python/log.md\" target=\"_blank\"><span style=\"color: #008080; text-decoration-color: #008080; background-color: #000000; font-weight: bold; text-decoration: underline\">run.log()</span></a> as a key-value pair. Provide a name for your table for the key, and pass the object\n",
       "<span style=\"color: #808000; text-decoration-color: #808000; font-weight: bold\">   </span>instance of <span style=\"color: #008080; text-decoration-color: #008080; background-color: #000000; font-weight: bold\">wandb.Table</span> as the value.                                                                           \n",
       "\n",
       "<span style=\"background-color: #272822\">                                                                                                                   \n",
       " </span><span style=\"color: #f8f8f2; text-decoration-color: #f8f8f2; background-color: #272822\">run </span><span style=\"color: #ff4689; text-decoration-color: #ff4689; background-color: #272822\">=</span><span style=\"color: #f8f8f2; text-decoration-color: #f8f8f2; background-color: #272822\"> wandb</span><span style=\"color: #ff4689; text-decoration-color: #ff4689; background-color: #272822\">.</span><span style=\"color: #f8f8f2; text-decoration-color: #f8f8f2; background-color: #272822\">init(project</span><span style=\"color: #ff4689; text-decoration-color: #ff4689; background-color: #272822\">=</span><span style=\"color: #e6db74; text-decoration-color: #e6db74; background-color: #272822\">\"table-test\"</span><span style=\"color: #f8f8f2; text-decoration-color: #f8f8f2; background-color: #272822\">)</span><span style=\"background-color: #272822\">                                                                            </span>\n",
       "<span style=\"background-color: #272822\"> </span><span style=\"color: #f8f8f2; text-decoration-color: #f8f8f2; background-color: #272822\">my_table </span><span style=\"color: #ff4689; text-decoration-color: #ff4689; background-color: #272822\">=</span><span style=\"color: #f8f8f2; text-decoration-color: #f8f8f2; background-color: #272822\"> wandb</span><span style=\"color: #ff4689; text-decoration-color: #ff4689; background-color: #272822\">.</span><span style=\"color: #f8f8f2; text-decoration-color: #f8f8f2; background-color: #272822\">Table(columns</span><span style=\"color: #ff4689; text-decoration-color: #ff4689; background-color: #272822\">=</span><span style=\"color: #f8f8f2; text-decoration-color: #f8f8f2; background-color: #272822\">[</span><span style=\"color: #e6db74; text-decoration-color: #e6db74; background-color: #272822\">\"a\"</span><span style=\"color: #f8f8f2; text-decoration-color: #f8f8f2; background-color: #272822\">, </span><span style=\"color: #e6db74; text-decoration-color: #e6db74; background-color: #272822\">\"b\"</span><span style=\"color: #f8f8f2; text-decoration-color: #f8f8f2; background-color: #272822\">], data</span><span style=\"color: #ff4689; text-decoration-color: #ff4689; background-color: #272822\">=</span><span style=\"color: #f8f8f2; text-decoration-color: #f8f8f2; background-color: #272822\">[[</span><span style=\"color: #e6db74; text-decoration-color: #e6db74; background-color: #272822\">\"a1\"</span><span style=\"color: #f8f8f2; text-decoration-color: #f8f8f2; background-color: #272822\">, </span><span style=\"color: #e6db74; text-decoration-color: #e6db74; background-color: #272822\">\"b1\"</span><span style=\"color: #f8f8f2; text-decoration-color: #f8f8f2; background-color: #272822\">], [</span><span style=\"color: #e6db74; text-decoration-color: #e6db74; background-color: #272822\">\"a2\"</span><span style=\"color: #f8f8f2; text-decoration-color: #f8f8f2; background-color: #272822\">, </span><span style=\"color: #e6db74; text-decoration-color: #e6db74; background-color: #272822\">\"b2\"</span><span style=\"color: #f8f8f2; text-decoration-color: #f8f8f2; background-color: #272822\">]])</span><span style=\"background-color: #272822\">                                     </span>\n",
       "<span style=\"background-color: #272822\"> </span><span style=\"color: #f8f8f2; text-decoration-color: #f8f8f2; background-color: #272822\">run</span><span style=\"color: #ff4689; text-decoration-color: #ff4689; background-color: #272822\">.</span><span style=\"color: #f8f8f2; text-decoration-color: #f8f8f2; background-color: #272822\">log({</span><span style=\"color: #e6db74; text-decoration-color: #e6db74; background-color: #272822\">\"Table Name\"</span><span style=\"color: #f8f8f2; text-decoration-color: #f8f8f2; background-color: #272822\">: my_table})</span><span style=\"background-color: #272822\">                                                                                 </span>\n",
       "<span style=\"background-color: #272822\">                                                                                                                   \n",
       "</span>\n",
       "You can optionally pass in a Pandas DataFrame to <span style=\"color: #008080; text-decoration-color: #008080; background-color: #000000; font-weight: bold\">wandb.Table()</span> Class. For more information on supported data types,\n",
       "see the <a href=\"../../ref/python/data-types/table.md\" target=\"_blank\"><span style=\"color: #008080; text-decoration-color: #008080; background-color: #000000; font-weight: bold; text-decoration: underline\">wandb.Table</span></a> in the W&amp;B API Reference Guide.                                                                \n",
       "\n",
       "\n",
       "                                       <span style=\"font-weight: bold; text-decoration: underline\">2. Visualize tables in the workspace</span>                                        \n",
       "\n",
       "View the resulting table in your workspace. Navigate to the W&amp;B App and select the name of your Run in your Project\n",
       "workspace. A new panel is added for each unique table key.                                                         \n",
       "\n",
       "🌆 <a href=\"/images/data_vis/wandb_demo_logged_sample_table.png\" target=\"_blank\">wandb_demo_logged_sample_table.png</a>                                                                                                                    \n",
       "\n",
       "In this example, <span style=\"color: #008080; text-decoration-color: #008080; background-color: #000000; font-weight: bold\">my_table</span>, is logged under the key <span style=\"color: #008080; text-decoration-color: #008080; background-color: #000000; font-weight: bold\">\"Table Name\"</span>.                                                   \n",
       "\n",
       "\n",
       "                                         <span style=\"font-weight: bold; text-decoration: underline\">3. Compare across model versions</span>                                          \n",
       "\n",
       "Log sample tables from multiple W&amp;B Runs and compare results in the project workspace. In this <a href=\"https://wandb.ai/carey/table-test?workspace=user-carey\" target=\"_blank\"><span style=\"color: #000080; text-decoration-color: #000080; text-decoration: underline\">example workspace</span></a>,  \n",
       "we show how to combine rows from multiple different versions in the same table.                                    \n",
       "\n",
       "🌆 <a href=\"/images/data_vis/wandb_demo_toggle_on_and_off_cross_run_comparisons_in_tables.gif\" target=\"_blank\">wandb_demo_toggle_on_and_off_cross_run_comparisons_in_tables.gif</a>                                                                                                                    \n",
       "\n",
       "Use the table filter, sort, and grouping features to explore and evaluate model                                    \n",
       "\n",
       "<span style=\"color: #808000; text-decoration-color: #808000\">───────────────────────────────────────────────────────────────────────────────────────────────────────────────────</span>\n",
       "You will now generate a user question and corresponding answer based on the above document. First, explain the user\n",
       "context and what problems they might be trying to solve. Second, generate user question. Third, provide the        \n",
       "accurate and concise answer in markdown format to the user question using the documentation. You'll be evaluated   \n",
       "on:                                                                                                                \n",
       "\n",
       "<span style=\"color: #808000; text-decoration-color: #808000; font-weight: bold\"> • </span>how realistic is that this question will come from a real user one day?                                         \n",
       "<span style=\"color: #808000; text-decoration-color: #808000; font-weight: bold\"> • </span>is this question about W&amp;B?                                                                                     \n",
       "<span style=\"color: #808000; text-decoration-color: #808000; font-weight: bold\"> • </span>can the question be answered using the W&amp;B document fragment above?                                             \n",
       "<span style=\"color: #808000; text-decoration-color: #808000; font-weight: bold\"> • </span>how accurate is the answer? Remember that users have different styles and can be imprecise. You are very good at\n",
       "<span style=\"color: #808000; text-decoration-color: #808000; font-weight: bold\">   </span>impersonating them! Use the following format: CONTEXT: QUESTION: ANSWER: Let's start!                           \n",
       "</pre>\n"
      ],
      "text/plain": [
       "Here are some examples of real user questions, you will be judged by how well you match this distribution.         \n",
       "\n",
       "\u001b[33m───────────────────────────────────────────────────────────────────────────────────────────────────────────────────\u001b[0m\n",
       "how can i get all the versions of an aritfact of a particular type? i have my log from training in a txt file. Can \n",
       "i import that data to wandb so i can visualize the data? Explain how I can version datasets with Weights & Biases. \n",
       "How do I create a new version of a dataset? How does Weights & Biases work with versions? What are some best       \n",
       "practices for versioning datasets?                                                                                 \n",
       "\n",
       "\u001b[33m───────────────────────────────────────────────────────────────────────────────────────────────────────────────────\u001b[0m\n",
       "In the next step, you will read a fragment of W&B documentation. This will serve as inspiration for synthetic user \n",
       "question and the source of the answer. Here is the document fragment:                                              \n",
       "\n",
       "\u001b[33m───────────────────────────────────────────────────────────────────────────────────────────────────────────────────\u001b[0m\n",
       "\n",
       "                                     \u001b[1;4mW&B Tables with this 5 minute Quickstart.\u001b[0m                                     \n",
       "\n",
       "┏━━━━━━━━━━━━━━━━━━━━━━━━━━━━━━━━━━━━━━━━━━━━━━━━━━━━━━━━━━━━━━━━━━━━━━━━━━━━━━━━━━━━━━━━━━━━━━━━━━━━━━━━━━━━━━━━━┓\n",
       "┃                                                \u001b[1mTables Quickstart\u001b[0m                                                ┃\n",
       "┗━━━━━━━━━━━━━━━━━━━━━━━━━━━━━━━━━━━━━━━━━━━━━━━━━━━━━━━━━━━━━━━━━━━━━━━━━━━━━━━━━━━━━━━━━━━━━━━━━━━━━━━━━━━━━━━━━┛\n",
       "\n",
       "The following Quickstart demonstrates how to log data tables, visualize data, and query data.                      \n",
       "\n",
       "🌆 \u001b]8;id=387630;http://wandb.me/tables-quickstart\u001b\\\u001b[4;34mOpen In Colab\u001b[0m\u001b]8;;\u001b\\ Select the button below to try a PyTorch Quickstart example project on MNIST data.                                 \n",
       "\n",
       "\n",
       "                                                  \u001b[1;4m1. Log a table\u001b[0m                                                   \n",
       "\n",
       "Follow the procedure outlined below to log a Table with W&B:                                                       \n",
       "\n",
       "\u001b[1;33m 1 \u001b[0mInitialize a W&B Run with \u001b]8;id=409916;../../ref/python/init.md\u001b\\\u001b[1;4;36;40mwandb.init()\u001b[0m\u001b]8;;\u001b\\.                                                                         \n",
       "\u001b[1;33m 2 \u001b[0mCreate a \u001b]8;id=835633;../../ref/python/data-types/table.md\u001b\\\u001b[1;4;36;40mwandb.Table()\u001b[0m\u001b]8;;\u001b\\ object instance. Pass the name of the columns in your table along with the data for the  \n",
       "\u001b[1;33m   \u001b[0m\u001b[1;36;40mcolumns\u001b[0m and \u001b[1;36;40mdata\u001b[0m parameters, respectively.                                                                      \n",
       "\u001b[1;33m 3 \u001b[0mLog the table with \u001b]8;id=21264;../../ref/python/log.md\u001b\\\u001b[1;4;36;40mrun.log()\u001b[0m\u001b]8;;\u001b\\ as a key-value pair. Provide a name for your table for the key, and pass the object\n",
       "\u001b[1;33m   \u001b[0minstance of \u001b[1;36;40mwandb.Table\u001b[0m as the value.                                                                           \n",
       "\n",
       "\u001b[48;2;39;40;34m                                                                                                                   \n",
       "\u001b[0m\u001b[48;2;39;40;34m \u001b[0m\u001b[38;2;248;248;242;48;2;39;40;34mrun\u001b[0m\u001b[38;2;248;248;242;48;2;39;40;34m \u001b[0m\u001b[38;2;255;70;137;48;2;39;40;34m=\u001b[0m\u001b[38;2;248;248;242;48;2;39;40;34m \u001b[0m\u001b[38;2;248;248;242;48;2;39;40;34mwandb\u001b[0m\u001b[38;2;255;70;137;48;2;39;40;34m.\u001b[0m\u001b[38;2;248;248;242;48;2;39;40;34minit\u001b[0m\u001b[38;2;248;248;242;48;2;39;40;34m(\u001b[0m\u001b[38;2;248;248;242;48;2;39;40;34mproject\u001b[0m\u001b[38;2;255;70;137;48;2;39;40;34m=\u001b[0m\u001b[38;2;230;219;116;48;2;39;40;34m\"\u001b[0m\u001b[38;2;230;219;116;48;2;39;40;34mtable-test\u001b[0m\u001b[38;2;230;219;116;48;2;39;40;34m\"\u001b[0m\u001b[38;2;248;248;242;48;2;39;40;34m)\u001b[0m\u001b[48;2;39;40;34m                                                                           \u001b[0m\u001b[48;2;39;40;34m \u001b[0m\n",
       "\u001b[48;2;39;40;34m \u001b[0m\u001b[38;2;248;248;242;48;2;39;40;34mmy_table\u001b[0m\u001b[38;2;248;248;242;48;2;39;40;34m \u001b[0m\u001b[38;2;255;70;137;48;2;39;40;34m=\u001b[0m\u001b[38;2;248;248;242;48;2;39;40;34m \u001b[0m\u001b[38;2;248;248;242;48;2;39;40;34mwandb\u001b[0m\u001b[38;2;255;70;137;48;2;39;40;34m.\u001b[0m\u001b[38;2;248;248;242;48;2;39;40;34mTable\u001b[0m\u001b[38;2;248;248;242;48;2;39;40;34m(\u001b[0m\u001b[38;2;248;248;242;48;2;39;40;34mcolumns\u001b[0m\u001b[38;2;255;70;137;48;2;39;40;34m=\u001b[0m\u001b[38;2;248;248;242;48;2;39;40;34m[\u001b[0m\u001b[38;2;230;219;116;48;2;39;40;34m\"\u001b[0m\u001b[38;2;230;219;116;48;2;39;40;34ma\u001b[0m\u001b[38;2;230;219;116;48;2;39;40;34m\"\u001b[0m\u001b[38;2;248;248;242;48;2;39;40;34m,\u001b[0m\u001b[38;2;248;248;242;48;2;39;40;34m \u001b[0m\u001b[38;2;230;219;116;48;2;39;40;34m\"\u001b[0m\u001b[38;2;230;219;116;48;2;39;40;34mb\u001b[0m\u001b[38;2;230;219;116;48;2;39;40;34m\"\u001b[0m\u001b[38;2;248;248;242;48;2;39;40;34m]\u001b[0m\u001b[38;2;248;248;242;48;2;39;40;34m,\u001b[0m\u001b[38;2;248;248;242;48;2;39;40;34m \u001b[0m\u001b[38;2;248;248;242;48;2;39;40;34mdata\u001b[0m\u001b[38;2;255;70;137;48;2;39;40;34m=\u001b[0m\u001b[38;2;248;248;242;48;2;39;40;34m[\u001b[0m\u001b[38;2;248;248;242;48;2;39;40;34m[\u001b[0m\u001b[38;2;230;219;116;48;2;39;40;34m\"\u001b[0m\u001b[38;2;230;219;116;48;2;39;40;34ma1\u001b[0m\u001b[38;2;230;219;116;48;2;39;40;34m\"\u001b[0m\u001b[38;2;248;248;242;48;2;39;40;34m,\u001b[0m\u001b[38;2;248;248;242;48;2;39;40;34m \u001b[0m\u001b[38;2;230;219;116;48;2;39;40;34m\"\u001b[0m\u001b[38;2;230;219;116;48;2;39;40;34mb1\u001b[0m\u001b[38;2;230;219;116;48;2;39;40;34m\"\u001b[0m\u001b[38;2;248;248;242;48;2;39;40;34m]\u001b[0m\u001b[38;2;248;248;242;48;2;39;40;34m,\u001b[0m\u001b[38;2;248;248;242;48;2;39;40;34m \u001b[0m\u001b[38;2;248;248;242;48;2;39;40;34m[\u001b[0m\u001b[38;2;230;219;116;48;2;39;40;34m\"\u001b[0m\u001b[38;2;230;219;116;48;2;39;40;34ma2\u001b[0m\u001b[38;2;230;219;116;48;2;39;40;34m\"\u001b[0m\u001b[38;2;248;248;242;48;2;39;40;34m,\u001b[0m\u001b[38;2;248;248;242;48;2;39;40;34m \u001b[0m\u001b[38;2;230;219;116;48;2;39;40;34m\"\u001b[0m\u001b[38;2;230;219;116;48;2;39;40;34mb2\u001b[0m\u001b[38;2;230;219;116;48;2;39;40;34m\"\u001b[0m\u001b[38;2;248;248;242;48;2;39;40;34m]\u001b[0m\u001b[38;2;248;248;242;48;2;39;40;34m]\u001b[0m\u001b[38;2;248;248;242;48;2;39;40;34m)\u001b[0m\u001b[48;2;39;40;34m                                    \u001b[0m\u001b[48;2;39;40;34m \u001b[0m\n",
       "\u001b[48;2;39;40;34m \u001b[0m\u001b[38;2;248;248;242;48;2;39;40;34mrun\u001b[0m\u001b[38;2;255;70;137;48;2;39;40;34m.\u001b[0m\u001b[38;2;248;248;242;48;2;39;40;34mlog\u001b[0m\u001b[38;2;248;248;242;48;2;39;40;34m(\u001b[0m\u001b[38;2;248;248;242;48;2;39;40;34m{\u001b[0m\u001b[38;2;230;219;116;48;2;39;40;34m\"\u001b[0m\u001b[38;2;230;219;116;48;2;39;40;34mTable Name\u001b[0m\u001b[38;2;230;219;116;48;2;39;40;34m\"\u001b[0m\u001b[38;2;248;248;242;48;2;39;40;34m:\u001b[0m\u001b[38;2;248;248;242;48;2;39;40;34m \u001b[0m\u001b[38;2;248;248;242;48;2;39;40;34mmy_table\u001b[0m\u001b[38;2;248;248;242;48;2;39;40;34m}\u001b[0m\u001b[38;2;248;248;242;48;2;39;40;34m)\u001b[0m\u001b[48;2;39;40;34m                                                                                \u001b[0m\u001b[48;2;39;40;34m \u001b[0m\n",
       "\u001b[48;2;39;40;34m                                                                                                                   \n",
       "\u001b[0m\n",
       "You can optionally pass in a Pandas DataFrame to \u001b[1;36;40mwandb.Table()\u001b[0m Class. For more information on supported data types,\n",
       "see the \u001b]8;id=274527;../../ref/python/data-types/table.md\u001b\\\u001b[1;4;36;40mwandb.Table\u001b[0m\u001b]8;;\u001b\\ in the W&B API Reference Guide.                                                                \n",
       "\n",
       "\n",
       "                                       \u001b[1;4m2. Visualize tables in the workspace\u001b[0m                                        \n",
       "\n",
       "View the resulting table in your workspace. Navigate to the W&B App and select the name of your Run in your Project\n",
       "workspace. A new panel is added for each unique table key.                                                         \n",
       "\n",
       "🌆 \u001b]8;id=750204;/images/data_vis/wandb_demo_logged_sample_table.png\u001b\\wandb_demo_logged_sample_table.png\u001b]8;;\u001b\\                                                                                                                    \n",
       "\n",
       "In this example, \u001b[1;36;40mmy_table\u001b[0m, is logged under the key \u001b[1;36;40m\"Table Name\"\u001b[0m.                                                   \n",
       "\n",
       "\n",
       "                                         \u001b[1;4m3. Compare across model versions\u001b[0m                                          \n",
       "\n",
       "Log sample tables from multiple W&B Runs and compare results in the project workspace. In this \u001b]8;id=698591;https://wandb.ai/carey/table-test?workspace=user-carey\u001b\\\u001b[4;34mexample workspace\u001b[0m\u001b]8;;\u001b\\,  \n",
       "we show how to combine rows from multiple different versions in the same table.                                    \n",
       "\n",
       "🌆 \u001b]8;id=931929;/images/data_vis/wandb_demo_toggle_on_and_off_cross_run_comparisons_in_tables.gif\u001b\\wandb_demo_toggle_on_and_off_cross_run_comparisons_in_tables.gif\u001b]8;;\u001b\\                                                                                                                    \n",
       "\n",
       "Use the table filter, sort, and grouping features to explore and evaluate model                                    \n",
       "\n",
       "\u001b[33m───────────────────────────────────────────────────────────────────────────────────────────────────────────────────\u001b[0m\n",
       "You will now generate a user question and corresponding answer based on the above document. First, explain the user\n",
       "context and what problems they might be trying to solve. Second, generate user question. Third, provide the        \n",
       "accurate and concise answer in markdown format to the user question using the documentation. You'll be evaluated   \n",
       "on:                                                                                                                \n",
       "\n",
       "\u001b[1;33m • \u001b[0mhow realistic is that this question will come from a real user one day?                                         \n",
       "\u001b[1;33m • \u001b[0mis this question about W&B?                                                                                     \n",
       "\u001b[1;33m • \u001b[0mcan the question be answered using the W&B document fragment above?                                             \n",
       "\u001b[1;33m • \u001b[0mhow accurate is the answer? Remember that users have different styles and can be imprecise. You are very good at\n",
       "\u001b[1;33m   \u001b[0mimpersonating them! Use the following format: CONTEXT: QUESTION: ANSWER: Let's start!                           \n"
      ]
     },
     "execution_count": 33,
     "metadata": {},
     "output_type": "execute_result"
    }
   ],
   "source": [
    "Markdown(user_prompt)"
   ]
  },
  {
   "cell_type": "code",
   "execution_count": 34,
   "metadata": {},
   "outputs": [],
   "source": [
    "@weave.op()\n",
    "def generate_questions(documents, n_questions=3, n_generations=5):\n",
    "    questions = []\n",
    "    for _, document in documents:\n",
    "        chunk = extract_random_chunk(document)\n",
    "        user_prompt = generate_context_prompt(chunk, n_questions)\n",
    "        messages=[\n",
    "            {\"role\": \"system\", \"content\": system_prompt},\n",
    "            {\"role\": \"user\", \"content\": user_prompt},\n",
    "        ]\n",
    "        response = completion_with_backoff(\n",
    "            model=MODEL_NAME,\n",
    "            messages=messages,\n",
    "            n = n_generations,\n",
    "            )\n",
    "        questions.extend([response.choices[i].message.content for i in range(n_generations)])\n",
    "    return questions"
   ]
  },
  {
   "cell_type": "markdown",
   "metadata": {},
   "source": [
    "> A Note about the `system` role: For GPT4 based pipelines you probably want to move some part of the context prompt to the `system` context. As we are using `gpt3.5-turbo` here, you can put the instruction on the user prompt, you can read more about this on [OpenAI docs here](https://platform.openai.com/docs/guides/chat/instructing-chat-models)"
   ]
  },
  {
   "cell_type": "code",
   "execution_count": 35,
   "metadata": {},
   "outputs": [],
   "source": [
    "# function to parse model generation and extract CONTEXT, QUESTION and ANSWER\n",
    "def parse_generation(generation):\n",
    "    lines = generation.split(\"\\n\")\n",
    "    context = []\n",
    "    question = []\n",
    "    answer = []\n",
    "    flag = None\n",
    "    \n",
    "    for line in lines:\n",
    "        if \"CONTEXT:\" in line:\n",
    "            flag = \"context\"\n",
    "            line = line.replace(\"CONTEXT:\", \"\").strip()\n",
    "        elif \"QUESTION:\" in line:\n",
    "            flag = \"question\"\n",
    "            line = line.replace(\"QUESTION:\", \"\").strip()\n",
    "        elif \"ANSWER:\" in line:\n",
    "            flag = \"answer\"\n",
    "            line = line.replace(\"ANSWER:\", \"\").strip()\n",
    "\n",
    "        if flag == \"context\":\n",
    "            context.append(line)\n",
    "        elif flag == \"question\":\n",
    "            question.append(line)\n",
    "        elif flag == \"answer\":\n",
    "            answer.append(line)\n",
    "\n",
    "    context = \"\\n\".join(context)\n",
    "    question = \"\\n\".join(question)\n",
    "    answer = \"\\n\".join(answer)\n",
    "    return context, question, answer"
   ]
  },
  {
   "cell_type": "code",
   "execution_count": 36,
   "metadata": {},
   "outputs": [
    {
     "data": {
      "text/plain": [
       "(\"\\nThe user is trying to log and manipulate data tables using W&B. They have a Pandas DataFrame and they aren't sure about how to log it as a table. \\n\",\n",
       " '\\nIs it possible to directly log a Pandas DataFrame as a Wandb Table? If so, how do I go about it?\\n',\n",
       " '\\nYes, you can directly log a Pandas DataFrame as a Wandb Table. Here\\'s how:\\n\\n1. Initialize a W&B Run using `wandb.init()` function.\\n2. Create a `wandb.Table()` instance and pass your DataFrame to it.\\n\\nBelow is a Python code example:\\n```python\\nrun = wandb.init(project=\"table-test\")\\nmy_df = pd.DataFrame(data=[[\"a1\", \"b1\"], [\"a2\", \"b2\"]], columns=[\"a\", \"b\"])\\nmy_table = wandb.Table(dataframe=my_df)\\nrun.log({\"Table Name\": my_table})\\n```\\n\\nThis logs `my_df`, your Pandas DataFrame as a Wandb Table, which can then be visualized in your W&B workspace. For more information on supported data types, refer to the `wandb.Table` in the W&B API Reference Guide.')"
      ]
     },
     "execution_count": 36,
     "metadata": {},
     "output_type": "execute_result"
    },
    {
     "name": "stderr",
     "output_type": "stream",
     "text": [
      "\u001b[36m\u001b[1mweave\u001b[0m: retry_attempt\n"
     ]
    }
   ],
   "source": [
    "generations = generate_questions([documents[0]], n_questions=3, n_generations=5)\n",
    "parse_generation(generations[0])"
   ]
  },
  {
   "cell_type": "code",
   "execution_count": 38,
   "metadata": {},
   "outputs": [
    {
     "name": "stderr",
     "output_type": "stream",
     "text": [
      "\u001b[34m\u001b[1mwandb\u001b[0m: Currently logged in as: \u001b[33mnazalint\u001b[0m (\u001b[33mMy1Team\u001b[0m) to \u001b[32mhttps://api.wandb.ai\u001b[0m. Use \u001b[1m`wandb login --relogin`\u001b[0m to force relogin\n"
     ]
    },
    {
     "data": {
      "text/html": [
       "Tracking run with wandb version 0.20.1"
      ],
      "text/plain": [
       "<IPython.core.display.HTML object>"
      ]
     },
     "metadata": {},
     "output_type": "display_data"
    },
    {
     "data": {
      "text/html": [
       "Run data is saved locally in <code>/workspaces/Building_LLM-Powered_Apps/wandb/run-20250630_112647-ioihrh4m</code>"
      ],
      "text/plain": [
       "<IPython.core.display.HTML object>"
      ]
     },
     "metadata": {},
     "output_type": "display_data"
    },
    {
     "data": {
      "text/html": [
       "Syncing run <strong><a href='https://wandb.ai/My1Team/llmapps/runs/ioihrh4m' target=\"_blank\">giddy-donkey-7</a></strong> to <a href='https://wandb.ai/My1Team/llmapps' target=\"_blank\">Weights & Biases</a> (<a href='https://wandb.me/developer-guide' target=\"_blank\">docs</a>)<br>"
      ],
      "text/plain": [
       "<IPython.core.display.HTML object>"
      ]
     },
     "metadata": {},
     "output_type": "display_data"
    },
    {
     "data": {
      "text/html": [
       " View project at <a href='https://wandb.ai/My1Team/llmapps' target=\"_blank\">https://wandb.ai/My1Team/llmapps</a>"
      ],
      "text/plain": [
       "<IPython.core.display.HTML object>"
      ]
     },
     "metadata": {},
     "output_type": "display_data"
    },
    {
     "data": {
      "text/html": [
       " View run at <a href='https://wandb.ai/My1Team/llmapps/runs/ioihrh4m' target=\"_blank\">https://wandb.ai/My1Team/llmapps/runs/ioihrh4m</a>"
      ],
      "text/plain": [
       "<IPython.core.display.HTML object>"
      ]
     },
     "metadata": {},
     "output_type": "display_data"
    },
    {
     "data": {
      "text/html": [
       "<button onClick=\"this.nextSibling.style.display='block';this.style.display='none';\">Display W&B run</button><iframe src='https://wandb.ai/My1Team/llmapps/runs/ioihrh4m?jupyter=true' style='border:none;width:100%;height:420px;display:none;'></iframe>"
      ],
      "text/plain": [
       "<wandb.sdk.wandb_run.Run at 0x7ea52c729730>"
      ]
     },
     "execution_count": 38,
     "metadata": {},
     "output_type": "execute_result"
    }
   ],
   "source": [
    "wandb.init(project='llmapps', job_type=\"Generation\")"
   ]
  },
  {
   "cell_type": "code",
   "execution_count": 39,
   "metadata": {},
   "outputs": [
    {
     "data": {
      "text/plain": [
       "<Artifact generated_examples>"
      ]
     },
     "execution_count": 39,
     "metadata": {},
     "output_type": "execute_result"
    }
   ],
   "source": [
    "parsed_generations = []\n",
    "generations = generate_questions(documents, n_questions=3, n_generations=5)\n",
    "for generation in generations:\n",
    "    context, question, answer = parse_generation(generation)\n",
    "    parsed_generations.append({\"context\": context, \"question\": question, \"answer\": answer})\n",
    "\n",
    "# let's convert parsed_generations to a pandas dataframe and save it locally\n",
    "df = pd.DataFrame(parsed_generations)\n",
    "df.to_csv('generated_examples.csv', index=False)\n",
    "\n",
    "# log df as a table to W&B for interactive exploration\n",
    "wandb.log({\"generated_examples\": wandb.Table(dataframe=df)})\n",
    "\n",
    "# log csv file as an artifact to W&B for later use\n",
    "artifact = wandb.Artifact(\"generated_examples\", type=\"dataset\")\n",
    "artifact.add_file(\"generated_examples.csv\")\n",
    "wandb.log_artifact(artifact)"
   ]
  },
  {
   "cell_type": "code",
   "execution_count": null,
   "metadata": {},
   "outputs": [],
   "source": [
    "# wandb.finish()"
   ]
  },
  {
   "cell_type": "code",
   "execution_count": null,
   "metadata": {},
   "outputs": [],
   "source": []
  }
 ],
 "metadata": {
  "accelerator": "GPU",
  "colab": {
   "include_colab_link": true,
   "provenance": [],
   "toc_visible": true
  },
  "kernelspec": {
   "display_name": "Python 3",
   "language": "python",
   "name": "python3"
  },
  "language_info": {
   "codemirror_mode": {
    "name": "ipython",
    "version": 3
   },
   "file_extension": ".py",
   "mimetype": "text/x-python",
   "name": "python",
   "nbconvert_exporter": "python",
   "pygments_lexer": "ipython3",
   "version": "3.12.1"
  }
 },
 "nbformat": 4,
 "nbformat_minor": 4
}
